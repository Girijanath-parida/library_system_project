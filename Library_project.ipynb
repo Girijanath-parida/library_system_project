{
 "cells": [
  {
   "cell_type": "code",
   "execution_count": 1,
   "id": "06337103-8285-4316-872f-cedb63d66734",
   "metadata": {},
   "outputs": [],
   "source": [
    "#result = input(\"Type something: \")\n",
    "#print(str(result))"
   ]
  },
  {
   "cell_type": "code",
   "execution_count": 2,
   "id": "3eba2ee5-5cb5-4419-8316-7abf04a161ab",
   "metadata": {},
   "outputs": [
    {
     "name": "stdin",
     "output_type": "stream",
     "text": [
      "Type something:  12\n"
     ]
    },
    {
     "name": "stdout",
     "output_type": "stream",
     "text": [
      "12\n"
     ]
    }
   ],
   "source": [
    "result = input('Type something: ')\n",
    "print(result)"
   ]
  },
  {
   "cell_type": "code",
   "execution_count": 3,
   "id": "d7b15cab-90ec-4b9c-9333-ed6946ae0ee7",
   "metadata": {},
   "outputs": [
    {
     "name": "stdin",
     "output_type": "stream",
     "text": [
      "Enter a number:  12\n"
     ]
    },
    {
     "name": "stdout",
     "output_type": "stream",
     "text": [
      "13\n",
      "You have 13 apples\n"
     ]
    }
   ],
   "source": [
    "n=int(input(\"Enter a number: \"))\n",
    "n = n+1\n",
    "print(n)\n",
    "print(\"You have \" + str(n) + \" apples\")"
   ]
  },
  {
   "cell_type": "code",
   "execution_count": 4,
   "id": "0cd49ced-fb8b-44d9-8855-b94cd196eb7b",
   "metadata": {},
   "outputs": [
    {
     "name": "stdout",
     "output_type": "stream",
     "text": [
      "1 2 3\n",
      "<class 'int'> <class 'int'> <class 'int'>\n"
     ]
    }
   ],
   "source": [
    "x = int(1)\n",
    "y = int(2.8)\n",
    "z = int(\"3\")\n",
    "print(x, y, z)\n",
    "print(type(x), type(y), type(z))"
   ]
  },
  {
   "cell_type": "code",
   "execution_count": 5,
   "id": "00942757-c9a8-4b54-bbe2-954eeed47414",
   "metadata": {},
   "outputs": [
    {
     "name": "stdout",
     "output_type": "stream",
     "text": [
      "Result 690\n"
     ]
    }
   ],
   "source": [
    "a=30\n",
    "b=23\n",
    "result=a*b \n",
    "print(\"Result \" + str(result))"
   ]
  },
  {
   "cell_type": "code",
   "execution_count": 6,
   "id": "ccc5b53a-c689-4432-9017-693afb4a55a3",
   "metadata": {},
   "outputs": [
    {
     "name": "stdout",
     "output_type": "stream",
     "text": [
      "**\n"
     ]
    }
   ],
   "source": [
    "a=\"*\"*2\n",
    "print(a)"
   ]
  },
  {
   "cell_type": "code",
   "execution_count": 7,
   "id": "3f13e018-958c-4b15-b517-810c93a4b52b",
   "metadata": {},
   "outputs": [
    {
     "name": "stdout",
     "output_type": "stream",
     "text": [
      "*\n",
      "* * \n",
      "* * * \n",
      "* * * * \n"
     ]
    }
   ],
   "source": [
    "a='*'*1\n",
    "b='* '* 2\n",
    "c='* '*  3\n",
    "d='* '*4\n",
    "print(a)\n",
    "print( b)\n",
    "print( c)\n",
    "print(d)"
   ]
  },
  {
   "cell_type": "code",
   "execution_count": 8,
   "id": "3201dce8-7f7b-46db-b67d-5209e953435f",
   "metadata": {},
   "outputs": [
    {
     "name": "stdout",
     "output_type": "stream",
     "text": [
      "<class 'float'>\n"
     ]
    }
   ],
   "source": [
    "a=10\n",
    "b=15.0\n",
    "result=a+b\n",
    "print(type(result))"
   ]
  },
  {
   "cell_type": "code",
   "execution_count": 9,
   "id": "c8d15f78-c57a-4a9c-b575-9bdb387e6d91",
   "metadata": {},
   "outputs": [
    {
     "name": "stdin",
     "output_type": "stream",
     "text": [
      "Enter a number:  12\n"
     ]
    },
    {
     "name": "stdout",
     "output_type": "stream",
     "text": [
      "12.0\n"
     ]
    }
   ],
   "source": [
    "a=int(input(\"Enter a number: \"))\n",
    "result=float(a)\n",
    "print(result)\n",
    "      \n",
    "            "
   ]
  },
  {
   "cell_type": "markdown",
   "id": "735296fe-511f-4407-897d-7c79e103ac5a",
   "metadata": {},
   "source": [
    "# "
   ]
  },
  {
   "cell_type": "code",
   "execution_count": 10,
   "id": "643399ae-ee4a-448b-992f-3f264fc86939",
   "metadata": {},
   "outputs": [
    {
     "name": "stdin",
     "output_type": "stream",
     "text": [
      "Enter the time:  12\n"
     ]
    },
    {
     "name": "stdout",
     "output_type": "stream",
     "text": [
      "12.0 hours is 43200.0 seconds\n"
     ]
    }
   ],
   "source": [
    "time_hour = float(input(\"Enter the time: \"))\n",
    "time_second = float(time_hour) * 3600\n",
    "print(str(time_hour)+ \" hours is \"+ str(time_second)+\" seconds\")\n",
    "                 \n",
    "                 "
   ]
  },
  {
   "cell_type": "code",
   "execution_count": 59,
   "id": "793db79d-d2de-4833-b0ac-a06b9e1a1bce",
   "metadata": {},
   "outputs": [
    {
     "ename": "SyntaxError",
     "evalue": "expected '(' (3211784371.py, line 1)",
     "output_type": "error",
     "traceback": [
      "\u001b[0;36m  Cell \u001b[0;32mIn[59], line 1\u001b[0;36m\u001b[0m\n\u001b[0;31m    def total_numbers=(number1, number2):\u001b[0m\n\u001b[0m                     ^\u001b[0m\n\u001b[0;31mSyntaxError\u001b[0m\u001b[0;31m:\u001b[0m expected '('\n"
     ]
    }
   ],
   "source": [
    "def total_numbers=(number1, number2):\n",
    "    if number1 + number2 < 100:\n",
    "        return True\n",
    "    else: \n",
    "       return False\n",
    "result=total_numbers(34, 54)        \n",
    "print(result)"
   ]
  },
  {
   "cell_type": "code",
   "execution_count": null,
   "id": "8e4fc9d9-8a1b-4c88-b5fc-35aa131c16d1",
   "metadata": {},
   "outputs": [],
   "source": [
    "def is_sum_less_than_100(number1, number2):\n",
    "    if number1 + number2 < 100:\n",
    "        return True\n",
    "    else:\n",
    "        return False "
   ]
  },
  {
   "cell_type": "code",
   "execution_count": null,
   "id": "37684a0e-40b9-4a66-95a3-84c6880110b6",
   "metadata": {},
   "outputs": [],
   "source": [
    "import math \n",
    "radius=15 # in cm\n",
    "height=2 # in cm\n",
    "volume= math.pi*(radius**2)*height\n",
    "print(float(volume))"
   ]
  },
  {
   "cell_type": "code",
   "execution_count": null,
   "id": "d26fc68a-64d9-4e73-97bb-d24045ca1b34",
   "metadata": {},
   "outputs": [],
   "source": [
    "def divisible_number(number):\n",
    "    if number % 3 == 0:\n",
    "        return True\n",
    "    else:\n",
    "        return False\n",
    "print(divisible_number(11))        \n",
    "        "
   ]
  },
  {
   "cell_type": "code",
   "execution_count": null,
   "id": "6a97ba5a-a46b-40b1-aef3-53cacc67d8e2",
   "metadata": {},
   "outputs": [],
   "source": [
    "def is_vowel(letter):\n",
    "    vowel_letter = [\"a\", \"e\", \"i\", \"o\", \"u\"]  \n",
    "    return letter.lower() in vowel_letter\n",
    "letter = input('Enter a letter: \")\n",
    "\n",
    "print(letter)          "
   ]
  },
  {
   "cell_type": "code",
   "execution_count": null,
   "id": "36fda5dd-d573-439d-aba7-6325db834305",
   "metadata": {},
   "outputs": [],
   "source": [
    "base =float(input(\"Enter the base: \"))\n",
    "height =float(input(\"Enter the height: \"))\n",
    "area = 0.5 * base * height\n",
    "print(float(area))\n",
    "                     "
   ]
  },
  {
   "cell_type": "code",
   "execution_count": null,
   "id": "0cef5eeb-d610-46bb-925a-d23a886b9184",
   "metadata": {},
   "outputs": [],
   "source": [
    "a=3\n",
    "b=4\n",
    "c=a**2 + b**2\n",
    "hypotenuse=math.sqrt(c)\n",
    "print(\"The length of the hypotenuse is:\", (d))"
   ]
  },
  {
   "cell_type": "code",
   "execution_count": null,
   "id": "fd741850-e078-4745-89e8-7c855d77b795",
   "metadata": {},
   "outputs": [],
   "source": [
    "import cmath\n",
    "a=float(input(\"Enter the value of a: \"))\n",
    "b=float(input(\"Enter the value of b: \"))\n",
    "c=float(input(\"Enter the value of c: \"))\n",
    "d = (b ** 2) - (4 * a * c)\n",
    "soln1 = (-b- cmath.sqrt(d)) / (2*a)\n",
    "soln2 = (-b+ cmath.sqrt(d)) / (2*a)\n",
    "\n",
    "print(\"The solutions are\" + str(soln1)+ str(soln2))\n",
    "        "
   ]
  },
  {
   "cell_type": "code",
   "execution_count": null,
   "id": "88981929-1c8b-444b-a630-38ff1b1e7f91",
   "metadata": {},
   "outputs": [],
   "source": [
    "eggs = 6\n",
    "bacon = 4\n",
    "sausages =1\n",
    "food_count = [eggs, bacon, sausages]\n",
    "print(food_count)\n",
    "print(len(food_count))"
   ]
  },
  {
   "cell_type": "code",
   "execution_count": null,
   "id": "0ff90d7c-2bc7-4cd4-be15-2f5f6df88a62",
   "metadata": {},
   "outputs": [],
   "source": [
    "def is_prime(number):\n",
    "    if number < 2:\n",
    "        return False\n",
    "    for i in range(2, int(number**0.5) + 1):\n",
    "        if number % i == 0:\n",
    "            return False\n",
    "    return True\n",
    "\n",
    "prime = []\n",
    "count = 0\n",
    "number = 1\n",
    "\n",
    "while count < 5:\n",
    "    if is_prime(number):\n",
    "        prime.append(number)\n",
    "        count += 1\n",
    "    number += 1\n",
    "\n",
    "print(prime)"
   ]
  },
  {
   "cell_type": "code",
   "execution_count": null,
   "id": "f2f8ffe9-9a18-4e2b-8d5d-0c8a72a4f578",
   "metadata": {},
   "outputs": [],
   "source": [
    "(2, int(144**0.5)+1)"
   ]
  },
  {
   "cell_type": "code",
   "execution_count": null,
   "id": "fe9dd86d-37fb-4706-a987-91065c463a4e",
   "metadata": {},
   "outputs": [],
   "source": [
    "numbers = [1, 4, 2, 6, 11, 3, 4]\n",
    "total = 1\n",
    "for i in numbers:\n",
    "    print(i)\n",
    "    total = total * i\n",
    "\n",
    "print(total)"
   ]
  },
  {
   "cell_type": "code",
   "execution_count": null,
   "id": "32c4fac6-b8a6-4204-8d61-d4a4e38a84f1",
   "metadata": {},
   "outputs": [],
   "source": [
    "a_tuple = (11,23,3,4,14,234)\n",
    "min(a_tuple)"
   ]
  },
  {
   "cell_type": "code",
   "execution_count": null,
   "id": "edc3ed75-d146-4a92-a98e-b4fc03cc8f28",
   "metadata": {},
   "outputs": [],
   "source": [
    "food_counts = {'wgrtyuolkasdfs':6 , 'bacon':1 , 'sausages':4}\n",
    "max_value = (food_counts.keys())\n",
    "print(max_value)"
   ]
  },
  {
   "cell_type": "code",
   "execution_count": null,
   "id": "246f0861-4728-4c85-bff8-7bbcf1f13d0a",
   "metadata": {},
   "outputs": [],
   "source": [
    "dict1 ={ 'eggs':6 , 'bacon':1 , 'sausages':4}\n",
    "values = dict1.keys()\n",
    "#print(values)\n",
    "#print(type(values))\n",
    "\n",
    "for i in values:\n",
    "    print(i)\n",
    "\n",
    "print(dict1.keys())"
   ]
  },
  {
   "cell_type": "code",
   "execution_count": null,
   "id": "f8cfcbde-6658-4a4d-8735-f1add43af413",
   "metadata": {},
   "outputs": [],
   "source": [
    "shopping_list = {'apple', 'banana', 'orange', 'milk', 'bread'}\n",
    "prime_values = [2, 3, 5, 7]\n",
    "\n",
    "shopping_dict = dict(zip(shopping_list, prime_values))\n",
    "print(shopping_dict)\n",
    "                 "
   ]
  },
  {
   "cell_type": "code",
   "execution_count": null,
   "id": "e30224d0-af5e-467b-b12f-2c081572353e",
   "metadata": {},
   "outputs": [],
   "source": [
    "list1 = ['A','B','C','D']\n",
    "list1[2]"
   ]
  },
  {
   "cell_type": "code",
   "execution_count": null,
   "id": "8dc63d08-96e7-4f32-b56c-c4bb2d694e67",
   "metadata": {},
   "outputs": [],
   "source": [
    "name = \"Girijanath parida\"\n",
    "name2 = name[:10]\n",
    "name3 = name2.lower()\n",
    "print(name3)"
   ]
  },
  {
   "cell_type": "code",
   "execution_count": null,
   "id": "ff8faf76-a8f3-43c3-91a4-7cb55b294217",
   "metadata": {},
   "outputs": [],
   "source": [
    "age=input(\"Enter your age: \")\n",
    "place=input(\"Enter your favourite place: \")\n",
    "txt = \"My name is John, and I am {}\"\n",
    "txt1 = \"I love to travel {} destination\"\n",
    "print(txt.format(age))\n",
    "print(txt1.format(place) +\".\"+ \" Hello world\")"
   ]
  },
  {
   "cell_type": "code",
   "execution_count": null,
   "id": "986a0c37-c18c-491c-819c-8771ab93e62e",
   "metadata": {},
   "outputs": [],
   "source": [
    "print(bool(\"abc\"))"
   ]
  },
  {
   "cell_type": "code",
   "execution_count": null,
   "id": "d947f072-c57d-4f34-a71e-6600eca8c8cf",
   "metadata": {},
   "outputs": [],
   "source": [
    "import sys"
   ]
  },
  {
   "cell_type": "code",
   "execution_count": null,
   "id": "877f3d0f-72da-46d3-aaa7-bb67b35f470e",
   "metadata": {},
   "outputs": [],
   "source": [
    "print(sys.__doc__)  \n"
   ]
  },
  {
   "cell_type": "code",
   "execution_count": null,
   "id": "676409b0-fba3-48b4-b664-8d009f5fff3e",
   "metadata": {},
   "outputs": [],
   "source": [
    "c=20\n",
    "c+=1\n",
    "\n",
    "print(c)"
   ]
  },
  {
   "cell_type": "code",
   "execution_count": null,
   "id": "39bc753e-8c9c-40fe-adba-655295632468",
   "metadata": {},
   "outputs": [],
   "source": [
    "a=(1,2,3,4)\n",
    "b=['Mohit', 'Raja', 'Amit']\n",
    "\n",
    "print(f\"{a=}, {b=}\")"
   ]
  },
  {
   "cell_type": "code",
   "execution_count": null,
   "id": "d16c7b96-02a0-4591-8e3b-0abe9b393c11",
   "metadata": {},
   "outputs": [],
   "source": [
    "shirt_size = input(\"Enter your shirt size: \")\n",
    "\n",
    "if shirt_size == \"l\":\n",
    "    print(\"Please go to 'Large' section\")\n",
    "elif shirt_size == \"m\":\n",
    "    print(\"Please go to 'Medium' section\")\n",
    "else:\n",
    "    print(\"No shirt for you\")\n"
   ]
  },
  {
   "cell_type": "code",
   "execution_count": null,
   "id": "6d8e183d-9ea1-44dd-81fa-44d6c2ba52e9",
   "metadata": {},
   "outputs": [],
   "source": [
    "for subject in my_tuples:\n",
    "    subject+=3\n",
    "    print(subject)"
   ]
  },
  {
   "cell_type": "code",
   "execution_count": null,
   "id": "c2bd0e31-99eb-4f91-9e39-3136ee5af38c",
   "metadata": {},
   "outputs": [],
   "source": [
    "my_tuple = (2, 4, 6, 8)\n",
    "final_number = []\n",
    "for i in my_tuple:\n",
    "    multi_number = i*3\n",
    "    final_number.append(multi_number)\n",
    "\n",
    "print(final_number)\n",
    "    "
   ]
  },
  {
   "cell_type": "code",
   "execution_count": null,
   "id": "32ddea1e-16c8-4cf6-924b-442616975ac7",
   "metadata": {},
   "outputs": [],
   "source": [
    "def age_activities(age=0):\n",
    "    age = age+1\n",
    "    return age\n",
    "new_baby_age = 10\n",
    "\n",
    "while new_baby_age <= 15:\n",
    "    print(new_baby_age)\n",
    "    new_baby_age = age_activities(new_baby_age)"
   ]
  },
  {
   "cell_type": "code",
   "execution_count": null,
   "id": "5a76ce9d-1dbd-4c6f-aa3f-a0c38996318f",
   "metadata": {},
   "outputs": [],
   "source": [
    "l = [1, 2, 3, 4, 5, 6, 7, 8, 10]\n",
    "def is_even_num(l):\n",
    "    enum = []\n",
    "    for n in l:\n",
    "        if n%2 == 0:\n",
    "            enum.append(n)\n",
    "        return enum\n",
    "\n",
    "print(is_even_num(n))\n",
    "        "
   ]
  },
  {
   "cell_type": "code",
   "execution_count": null,
   "id": "d8567b3b-8019-41fa-bf06-6ea92642070f",
   "metadata": {},
   "outputs": [],
   "source": [
    "my_list = range(1,30):\n",
    "double_result = []\n",
    "for number in my_list:\n",
    "    multi_number = number*2\n",
    "    double_result.append(multi_number)\n",
    "\n",
    "print(double_result)\n"
   ]
  },
  {
   "cell_type": "code",
   "execution_count": null,
   "id": "70914145-52e0-42b2-bc2d-9a60a6ddbacd",
   "metadata": {},
   "outputs": [],
   "source": [
    "r = lambda a: a + 15\n",
    "print(r(10))"
   ]
  },
  {
   "cell_type": "code",
   "execution_count": null,
   "id": "9d13cabf-b500-4c6b-bd79-fb75347c77df",
   "metadata": {},
   "outputs": [],
   "source": [
    "r = lambda x, y : x*y \n",
    "print(r(10,4))"
   ]
  },
  {
   "cell_type": "code",
   "execution_count": 12,
   "id": "1e13b0fb-2ef4-4490-a68b-e0c7b4c10b8e",
   "metadata": {},
   "outputs": [
    {
     "name": "stdout",
     "output_type": "stream",
     "text": [
      "True\n"
     ]
    }
   ],
   "source": [
    "starts_with = lambda x:True if x.startswith('P') else False\n",
    "print(starts_with(\"Python\"))"
   ]
  },
  {
   "cell_type": "code",
   "execution_count": null,
   "id": "ee829b76-33a8-43cc-9f4f-dd2e3668b155",
   "metadata": {},
   "outputs": [],
   "source": [
    "pip install pandas"
   ]
  },
  {
   "cell_type": "code",
   "execution_count": 13,
   "id": "3fa50fe1-241a-4d4a-bb18-ad99f20d7e74",
   "metadata": {},
   "outputs": [],
   "source": [
    "import pandas"
   ]
  },
  {
   "cell_type": "code",
   "execution_count": 58,
   "id": "4fced316-6345-4d7d-8b76-e4e90823a48e",
   "metadata": {},
   "outputs": [
    {
     "ename": "SyntaxError",
     "evalue": "'return' outside function (2829268934.py, line 6)",
     "output_type": "error",
     "traceback": [
      "\u001b[0;36m  Cell \u001b[0;32mIn[58], line 6\u001b[0;36m\u001b[0m\n\u001b[0;31m    return even_numbers\u001b[0m\n\u001b[0m    ^\u001b[0m\n\u001b[0;31mSyntaxError\u001b[0m\u001b[0;31m:\u001b[0m 'return' outside function\n"
     ]
    }
   ],
   "source": [
    "numbers = (1, 2, 3, 4, 5, 6, 7, 8, 9, 10, 11, 12, 13, 14)\n",
    "even_numbers = []\n",
    "for i in numbers:\n",
    "    if i%2 == 0:\n",
    "        even_numbers.append(i)\n",
    "return even_numbers\n",
    "\n",
    "print(even_numbers)\n",
    "    "
   ]
  },
  {
   "cell_type": "code",
   "execution_count": 40,
   "id": "f8f77e44-07a4-4bd9-8bae-db4f3f05efa1",
   "metadata": {},
   "outputs": [
    {
     "name": "stdout",
     "output_type": "stream",
     "text": [
      "[2, 4, 6, 8, 10, 12, 14, 16, 18]\n"
     ]
    }
   ],
   "source": [
    "def extract_even_numbers(numbers):\n",
    "    even_numbers = []\n",
    "    for num in numbers:\n",
    "        if num % 2 == 0:\n",
    "            even_numbers.append(num)\n",
    "    return even_numbers\n",
    "# Example usage:\n",
    "numbers = [1, 2, 3, 4, 5, 6, 7, 8, 9, 10, 12, 13, 14, 16, 17, 18, 19]\n",
    "even_numbers = extract_even_numbers(numbers)\n",
    "print(even_numbers)"
   ]
  },
  {
   "cell_type": "code",
   "execution_count": 46,
   "id": "24a4c6eb-0ef2-4173-985d-e3ffb6b5e1c9",
   "metadata": {},
   "outputs": [
    {
     "name": "stdout",
     "output_type": "stream",
     "text": [
      "[2, 4, 6, 8, 10, 12, 14, 16, 18, 20]\n"
     ]
    }
   ],
   "source": [
    "even_numbers = []\n",
    "for num in range(2, 21):\n",
    "    if num % 2 == 0:\n",
    "        even_numbers.append(num)\n",
    "        \n",
    "print(even_numbers)"
   ]
  },
  {
   "cell_type": "code",
   "execution_count": 41,
   "id": "ff7d4813-6b7e-4d43-9d67-8c00cf9b6606",
   "metadata": {},
   "outputs": [
    {
     "name": "stdout",
     "output_type": "stream",
     "text": [
      "2\n",
      "5\n",
      "8\n",
      "11\n",
      "14\n",
      "17\n",
      "20\n",
      "23\n",
      "26\n",
      "29\n"
     ]
    }
   ],
   "source": [
    "for x in range(2, 30, 3):\n",
    "    print(x)"
   ]
  },
  {
   "cell_type": "code",
   "execution_count": 47,
   "id": "2eb6598b-06aa-48b8-9510-e76cf49a9dc7",
   "metadata": {},
   "outputs": [
    {
     "name": "stdout",
     "output_type": "stream",
     "text": [
      "[2, 4, 6, 8]\n"
     ]
    }
   ],
   "source": [
    "def extract_even_numbers(numbers):\n",
    "    even_number = []\n",
    "    for num in numbers:\n",
    "        if num % 2 == 0:\n",
    "            even_number.append(num)\n",
    "\n",
    "    return even_number\n",
    "\n",
    "number = [1, 2, 3, 4, 5, 6, 7, 8, 9]\n",
    "even_number = extract_even_numbers(number)\n",
    "\n",
    "print(even_number)"
   ]
  },
  {
   "cell_type": "code",
   "execution_count": 67,
   "id": "976e9b66-b356-4d84-b0ed-f9ee2ed16914",
   "metadata": {},
   "outputs": [
    {
     "name": "stdin",
     "output_type": "stream",
     "text": [
      "Enter a number:  1212122345\n"
     ]
    },
    {
     "name": "stdout",
     "output_type": "stream",
     "text": [
      "It is an odd number\n"
     ]
    }
   ],
   "source": [
    "numbers = int(input(\"Enter a number: \"))\n",
    "if numbers % 2 == 0:\n",
    "    print(\"It is an even number\")\n",
    "elif numbers % 2 != 0:\n",
    "    print(\"It is an odd number\")\n",
    "\n",
    "\n"
   ]
  },
  {
   "cell_type": "code",
   "execution_count": 84,
   "id": "f6b8c88c-ed8a-4057-9112-fe8046069b5b",
   "metadata": {},
   "outputs": [
    {
     "name": "stdin",
     "output_type": "stream",
     "text": [
      "Enter a number:  56\n"
     ]
    },
    {
     "name": "stdout",
     "output_type": "stream",
     "text": [
      "No result\n"
     ]
    }
   ],
   "source": [
    "x = int(input(\"Enter a number: \"))\n",
    "if 20 > x > 10:\n",
    "    print(\"Above ten\")\n",
    "elif 30 > x > 20:\n",
    "    print(\"Above twenty\")\n",
    "else:\n",
    "    print(\"No result\")\n",
    "    \n",
    "        \n",
    "   \n",
    "        \n",
    "              "
   ]
  },
  {
   "cell_type": "code",
   "execution_count": 87,
   "id": "99a5de91-b680-4ef8-bd58-c5afb4c64613",
   "metadata": {},
   "outputs": [],
   "source": [
    "a = 33\n",
    "b = 100\n",
    "if b > a:\n",
    "    pass\n"
   ]
  },
  {
   "cell_type": "code",
   "execution_count": 102,
   "id": "e98874b1-8189-4b23-8b8c-68c0469b81fc",
   "metadata": {},
   "outputs": [
    {
     "name": "stdout",
     "output_type": "stream",
     "text": [
      "0\n",
      "1\n",
      "2\n",
      "3\n",
      "4\n",
      "5\n"
     ]
    }
   ],
   "source": [
    "i = 0\n",
    "while i < 6:\n",
    "    print(i)\n",
    "    i += 1"
   ]
  },
  {
   "cell_type": "code",
   "execution_count": 1,
   "id": "fb73f2e5-4ee3-439d-8437-f5fcc0f825a8",
   "metadata": {},
   "outputs": [
    {
     "name": "stdout",
     "output_type": "stream",
     "text": [
      "1\n",
      "2\n",
      "3\n",
      "4\n",
      "5\n",
      "6\n",
      "7\n",
      "8\n"
     ]
    }
   ],
   "source": [
    "i = 1\n",
    "while i < 10:\n",
    "    print(i)\n",
    "    if i == 8:\n",
    "        break\n",
    "\n",
    "    i += 1\n",
    "    \n"
   ]
  },
  {
   "cell_type": "code",
   "execution_count": 9,
   "id": "8ead1095-9ad2-4327-b397-36dd6e85e5ce",
   "metadata": {},
   "outputs": [
    {
     "name": "stdout",
     "output_type": "stream",
     "text": [
      "1\n",
      "3\n",
      "5\n",
      "7\n",
      "9\n",
      "11\n",
      "13\n",
      "15\n",
      "17\n",
      "19\n"
     ]
    }
   ],
   "source": [
    "i = 0\n",
    "while i < 20:\n",
    "    i +=1\n",
    "    if i % 2 == 0:\n",
    "        continue\n",
    "    print(i)    "
   ]
  },
  {
   "cell_type": "code",
   "execution_count": 1,
   "id": "0b1c003f-5443-4c6a-8981-dcf71320c08d",
   "metadata": {},
   "outputs": [
    {
     "name": "stdout",
     "output_type": "stream",
     "text": [
      "notebook\n"
     ]
    }
   ],
   "source": [
    "print(\"notebook\")"
   ]
  },
  {
   "cell_type": "code",
   "execution_count": 2,
   "id": "8c1efb9b-e940-425f-a0b5-b6057123ca48",
   "metadata": {},
   "outputs": [
    {
     "name": "stdout",
     "output_type": "stream",
     "text": [
      "banana\n",
      "Cherry\n",
      "Apple\n"
     ]
    }
   ],
   "source": [
    "fruits = [\"banana\", \"Cherry\", \"Apple\"]\n",
    "for x in fruits:\n",
    "    print(x)"
   ]
  },
  {
   "cell_type": "code",
   "execution_count": 3,
   "id": "1cb698b6-532d-435d-8e3a-7dee73d3871b",
   "metadata": {},
   "outputs": [
    {
     "name": "stdout",
     "output_type": "stream",
     "text": [
      "b\n",
      "a\n",
      "n\n",
      "a\n",
      "n\n",
      "a\n"
     ]
    }
   ],
   "source": [
    "for x in \"banana\":\n",
    "    print(x)"
   ]
  },
  {
   "cell_type": "code",
   "execution_count": 12,
   "id": "738e98e3-5a6a-4641-9cea-117bc7b7ba85",
   "metadata": {},
   "outputs": [
    {
     "name": "stdout",
     "output_type": "stream",
     "text": [
      "apple\n",
      "cherry\n",
      "orange\n",
      "banana\n"
     ]
    }
   ],
   "source": [
    "fruits = [\"apple\", \"cherry\", \"orange\", \"banana\", \"watermelon\"]\n",
    "for x in fruits:\n",
    "    print(x)\n",
    "    if x == \"banana\":\n",
    "        break"
   ]
  },
  {
   "cell_type": "code",
   "execution_count": 22,
   "id": "ce208a97-d35c-4c07-8f7e-de5c834cb4bc",
   "metadata": {},
   "outputs": [
    {
     "name": "stdout",
     "output_type": "stream",
     "text": [
      "4\n",
      "9\n",
      "16\n",
      "25\n",
      "36\n",
      "49\n",
      "64\n",
      "81\n",
      "100\n",
      "121\n",
      "144\n",
      "169\n",
      "196\n",
      "225\n",
      "256\n",
      "289\n",
      "324\n",
      "361\n",
      "400\n",
      "441\n",
      "484\n",
      "529\n",
      "576\n",
      "625\n",
      "676\n",
      "729\n",
      "784\n",
      "841\n",
      "900\n",
      "961\n",
      "1024\n",
      "1089\n",
      "1156\n",
      "1225\n",
      "1296\n",
      "1369\n",
      "1444\n",
      "1521\n"
     ]
    }
   ],
   "source": [
    "for x in range(2, 40):\n",
    "    x = x**2\n",
    "    print(x)"
   ]
  },
  {
   "cell_type": "code",
   "execution_count": 36,
   "id": "65b54a5f-6273-4333-8ab4-c0d4cb71ee99",
   "metadata": {},
   "outputs": [
    {
     "name": "stdin",
     "output_type": "stream",
     "text": [
      "Enter a number:  3\n",
      "Enter a number:  3\n"
     ]
    },
    {
     "name": "stdout",
     "output_type": "stream",
     "text": [
      "a is equal to b\n"
     ]
    }
   ],
   "source": [
    "a = int(input(\"Enter a number: \"))\n",
    "b = int(input(\"Enter a number: \"))\n",
    "\n",
    "if a < b:\n",
    "    print(\"a is smaller than b\")\n",
    "\n",
    "elif a > b:\n",
    "    print(\"a is greater than b\")\n",
    "\n",
    "else: \n",
    "    print(\"a is equal to b\")\n",
    "\n"
   ]
  },
  {
   "cell_type": "code",
   "execution_count": 1,
   "id": "b909f02e-29d7-4857-ae96-7181aff538ef",
   "metadata": {},
   "outputs": [
    {
     "name": "stdout",
     "output_type": "stream",
     "text": [
      "10\n",
      "9\n",
      "8\n",
      "7\n"
     ]
    }
   ],
   "source": [
    "i = 10\n",
    "while i > 6:\n",
    "    print(i)\n",
    "    i = i-1"
   ]
  },
  {
   "cell_type": "code",
   "execution_count": 52,
   "id": "44f13f9a-6da0-4232-81b5-1c3b5a913057",
   "metadata": {},
   "outputs": [
    {
     "name": "stdout",
     "output_type": "stream",
     "text": [
      "[2, 4, 6, 8]\n"
     ]
    }
   ],
   "source": [
    "def is_even_number(num):\n",
    "    even_number = []\n",
    "    for x in num:\n",
    "        if x%2 == 0:\n",
    "            even_number.append(x)     \n",
    "            \n",
    "    return even_number\n",
    "        \n",
    "num = [1, 2, 3, 4, 5, 6, 7, 8]\n",
    "even_number = is_even_number(num)\n",
    "print(even_number)\n"
   ]
  },
  {
   "cell_type": "code",
   "execution_count": 45,
   "id": "edddb5e3-1d50-440f-b509-347dca5b8a5e",
   "metadata": {},
   "outputs": [
    {
     "name": "stdout",
     "output_type": "stream",
     "text": [
      "[0, 1, 4, 9, 16, 25, 36, 49, 64, 81, 100, 121, 144, 169, 196, 225, 256, 289, 324, 361]\n",
      "None\n"
     ]
    }
   ],
   "source": [
    "def print_values():\n",
    "    l = list()\n",
    "    for x in range(20):\n",
    "        l.append(x**2)\n",
    "    print(l)\n",
    "\n",
    "   \n",
    "print(print_values())        "
   ]
  },
  {
   "cell_type": "code",
   "execution_count": 56,
   "id": "370262be-9c61-4918-8cab-fca4cdae24ce",
   "metadata": {},
   "outputs": [
    {
     "name": "stdout",
     "output_type": "stream",
     "text": [
      "27\n"
     ]
    }
   ],
   "source": [
    "x = lambda a, b, c : 2*a + 3*b + c\n",
    "print(x(3, 5, 6))"
   ]
  },
  {
   "cell_type": "code",
   "execution_count": 1,
   "id": "c22083eb-5517-417b-a8a1-78f78d26edff",
   "metadata": {},
   "outputs": [
    {
     "name": "stdout",
     "output_type": "stream",
     "text": [
      "690\n"
     ]
    }
   ],
   "source": [
    "a=30\n",
    "b=23\n",
    "result = a*b\n",
    "print(result)"
   ]
  },
  {
   "cell_type": "code",
   "execution_count": 3,
   "id": "b2e4e9fd-51cc-4d3d-a051-6868b9232a1b",
   "metadata": {},
   "outputs": [
    {
     "name": "stdout",
     "output_type": "stream",
     "text": [
      "5.0\n",
      "<class 'float'>\n"
     ]
    }
   ],
   "source": [
    "x= float(5)\n",
    "print(x)\n",
    "print(type(x))"
   ]
  },
  {
   "cell_type": "code",
   "execution_count": 15,
   "id": "74b5a20b-f86c-48d1-a5b3-104a11d6724f",
   "metadata": {},
   "outputs": [
    {
     "name": "stdin",
     "output_type": "stream",
     "text": [
      "Enter the time:  5.30\n"
     ]
    },
    {
     "name": "stdout",
     "output_type": "stream",
     "text": [
      "5.3hrs is 19080.0 seconds\n"
     ]
    }
   ],
   "source": [
    "time_hours = float(input(\"Enter the time: \"))\n",
    "time_seconds = float(time_hours)*(3600)\n",
    "print(str(time_hours)+\"hrs is \"+ str(time_seconds)+\" seconds\")"
   ]
  },
  {
   "cell_type": "code",
   "execution_count": 16,
   "id": "f844e319-8e06-4394-bdbc-a05e2dc6f5b7",
   "metadata": {},
   "outputs": [
    {
     "data": {
      "text/plain": [
       "list"
      ]
     },
     "execution_count": 16,
     "metadata": {},
     "output_type": "execute_result"
    }
   ],
   "source": [
    "mixed_list = [\"one\", 2, \"three\", 4]\n",
    "type(mixed_list)"
   ]
  },
  {
   "cell_type": "code",
   "execution_count": 18,
   "id": "31cf9e9d-5b5d-416a-b7e7-12f1206163b8",
   "metadata": {},
   "outputs": [
    {
     "name": "stdout",
     "output_type": "stream",
     "text": [
      "[6, 1, 4]\n"
     ]
    }
   ],
   "source": [
    "eggs = 6 \n",
    "bacon = 1\n",
    "sausages = 4\n",
    "food_count = [eggs, bacon, sausages]\n",
    "print(food_count)"
   ]
  },
  {
   "cell_type": "code",
   "execution_count": 23,
   "id": "1c96d086-2d24-44d2-8f5d-6186ec7b494a",
   "metadata": {},
   "outputs": [
    {
     "name": "stdout",
     "output_type": "stream",
     "text": [
      "[2, 3, 5, 7, 11]\n"
     ]
    }
   ],
   "source": [
    "prime = []\n",
    "num = 2\n",
    "\n",
    "while len(prime) < 5:\n",
    "    is_prime = True\n",
    "    for i in range(2, int(num ** 0.5) + 1):\n",
    "        if num % i == 0: \n",
    "            is_prime = False\n",
    "            break\n",
    "    if is_prime:\n",
    "        prime.append(num)\n",
    "\n",
    "    num += 1\n",
    "\n",
    "print(prime)\n",
    "\n",
    "        \n",
    "    "
   ]
  },
  {
   "cell_type": "code",
   "execution_count": 24,
   "id": "c9bc3b53-d8b4-4062-be95-094f7db1dc72",
   "metadata": {},
   "outputs": [
    {
     "name": "stdout",
     "output_type": "stream",
     "text": [
      "1\n",
      "4\n",
      "2\n",
      "6\n",
      "11\n",
      "3\n",
      "4\n",
      "31\n"
     ]
    }
   ],
   "source": [
    "numbers = [1, 4, 2, 6, 11, 3, 4]\n",
    "total = 0\n",
    "\n",
    "for i in numbers:\n",
    "    print(i)\n",
    "    total = total + i\n",
    "\n",
    "print(total)"
   ]
  },
  {
   "cell_type": "code",
   "execution_count": 31,
   "id": "04800c04-d225-4b7f-a889-b8fe8a95aa44",
   "metadata": {},
   "outputs": [
    {
     "data": {
      "text/plain": [
       "10"
      ]
     },
     "execution_count": 31,
     "metadata": {},
     "output_type": "execute_result"
    }
   ],
   "source": [
    "a_tuple = (1, 2, 3, 4, 10)\n",
    "len(a_tuple)\n",
    "max(a_tuple)"
   ]
  },
  {
   "cell_type": "code",
   "execution_count": 47,
   "id": "52540392-7988-4b40-bf0c-2a0082922ca4",
   "metadata": {},
   "outputs": [
    {
     "name": "stdout",
     "output_type": "stream",
     "text": [
      "6\n",
      "1\n",
      "4\n",
      "dict_values([6, 1, 4])\n",
      "dict_keys(['eggs', 'bacon', 'sausages'])\n"
     ]
    }
   ],
   "source": [
    "#dict1 ={ 'eggs':6 , 'bacon':1 , 'sausages':4}\n",
    "values = dict1.values()\n",
    "\n",
    "for i in values:\n",
    "    print(i)\n",
    "\n",
    "print(dict1.values())\n",
    "print(dict1.keys())"
   ]
  },
  {
   "cell_type": "code",
   "execution_count": 66,
   "id": "a5ff12b3-2511-4165-8e28-7c4dd6dc7667",
   "metadata": {},
   "outputs": [
    {
     "data": {
      "text/plain": [
       "'SmSr'"
      ]
     },
     "execution_count": 66,
     "metadata": {},
     "output_type": "execute_result"
    }
   ],
   "source": [
    "s = \"Sammy Shark\"\n",
    "\n",
    "s[::3]"
   ]
  },
  {
   "cell_type": "code",
   "execution_count": 64,
   "id": "3dc5ff1f-5868-4417-97b2-21eb6397e5f9",
   "metadata": {},
   "outputs": [
    {
     "data": {
      "text/plain": [
       "['A', 'D']"
      ]
     },
     "execution_count": 64,
     "metadata": {},
     "output_type": "execute_result"
    }
   ],
   "source": [
    "list1 = ['A', 'B', 'C', 'D']\n",
    "list1[::3]"
   ]
  },
  {
   "cell_type": "code",
   "execution_count": 70,
   "id": "ae4e00bb-d903-4f5e-b4f5-981d8e090b15",
   "metadata": {},
   "outputs": [
    {
     "data": {
      "text/plain": [
       "[1, 2, 3, 4]"
      ]
     },
     "execution_count": 70,
     "metadata": {},
     "output_type": "execute_result"
    }
   ],
   "source": [
    "x = [[1, 2, 3, 4], [5, 6, 7, 8]]\n",
    "\n",
    "x[0] [:]"
   ]
  },
  {
   "cell_type": "code",
   "execution_count": 73,
   "id": "33e639b9-3801-464e-9acb-bd0508dd5e46",
   "metadata": {},
   "outputs": [
    {
     "name": "stdout",
     "output_type": "stream",
     "text": [
      "['apple', 3, 4, 'orange']\n"
     ]
    }
   ],
   "source": [
    "l = [2,3,4,5]\n",
    "l[0] = 'apple'\n",
    "l[3] = 'orange'\n",
    "\n",
    "print(l)"
   ]
  },
  {
   "cell_type": "code",
   "execution_count": 80,
   "id": "9fc5f9a6-9e25-496a-8e5a-61d1ed1fae22",
   "metadata": {},
   "outputs": [
    {
     "name": "stdout",
     "output_type": "stream",
     "text": [
      "['a', 'a', 'a', 'b', 'c']\n"
     ]
    }
   ],
   "source": [
    "l[2:] = ['a', 'b', 'c']\n",
    "print(l)"
   ]
  },
  {
   "cell_type": "code",
   "execution_count": 85,
   "id": "488d6119-9288-4337-aa9f-60f83f02425c",
   "metadata": {},
   "outputs": [
    {
     "name": "stdout",
     "output_type": "stream",
     "text": [
      "3080\n",
      "30 50\n"
     ]
    }
   ],
   "source": [
    "a = 30\n",
    "b = 50\n",
    "if a < b:\n",
    "    c = (a + b) + 2*a*b\n",
    "    print(c)\n",
    "\n",
    "print(a,b)"
   ]
  },
  {
   "cell_type": "code",
   "execution_count": 89,
   "id": "081513d7-8946-4b31-8ea7-256b4041c858",
   "metadata": {},
   "outputs": [
    {
     "data": {
      "text/plain": [
       "'k'"
      ]
     },
     "execution_count": 89,
     "metadata": {},
     "output_type": "execute_result"
    }
   ],
   "source": [
    "x = \"Shark\"\n",
    "x[4:]"
   ]
  },
  {
   "cell_type": "code",
   "execution_count": 94,
   "id": "6bd32366-b227-4770-97ff-c0da326e3891",
   "metadata": {},
   "outputs": [
    {
     "name": "stdout",
     "output_type": "stream",
     "text": [
      "['one', 'two', 3, 'four', ['a', 7]]\n"
     ]
    }
   ],
   "source": [
    "one = 'one'\n",
    "two = 2\n",
    "three = 3\n",
    "four = 'four'\n",
    "list_1 = [\"a\", 7]\n",
    "this_list = [one, 'two', 3, four, list_1]\n",
    "print(this_list)"
   ]
  },
  {
   "cell_type": "code",
   "execution_count": 103,
   "id": "79907b92-8049-4900-9a55-67bcac352580",
   "metadata": {},
   "outputs": [
    {
     "name": "stdout",
     "output_type": "stream",
     "text": [
      "{'eggs': 6, 'bacon': 1, 'sausages': 4, 'milk': 2}\n"
     ]
    }
   ],
   "source": [
    "#dict1 = {'eggs':6, 'bacon':1, 'sausages':4}\n",
    "dict1['milk'] = 2\n",
    "print(dict1)"
   ]
  },
  {
   "cell_type": "code",
   "execution_count": 105,
   "id": "1da57ebd-8d62-4fad-9e87-61f390a2f28e",
   "metadata": {},
   "outputs": [
    {
     "name": "stdout",
     "output_type": "stream",
     "text": [
      "fragilistic\n"
     ]
    }
   ],
   "source": [
    "s = 'supercalifragilisticexpialidocious'\n",
    "\n",
    "print(s[9:20])\n"
   ]
  },
  {
   "cell_type": "code",
   "execution_count": 174,
   "id": "78dfa6c7-20ba-45b9-9325-30cf3196f5a3",
   "metadata": {},
   "outputs": [
    {
     "name": "stdout",
     "output_type": "stream",
     "text": [
      "good job!\n"
     ]
    }
   ],
   "source": [
    "dict1 = {1: ['this', 'is', ['a', 'list']], '2': {'a': 'nother', 'd':'ictionary', '3': [1,2,3,4,5]}, 'three': ['list',{2:'woah', 3: 'good job!'}]}\n",
    "\n",
    "print(dict1['three'][1][3])\n",
    "\n"
   ]
  },
  {
   "cell_type": "code",
   "execution_count": 191,
   "id": "b3ee7723-dcc5-4f8d-a195-a277f65c6466",
   "metadata": {},
   "outputs": [
    {
     "name": "stdout",
     "output_type": "stream",
     "text": [
      "esrever\n"
     ]
    }
   ],
   "source": [
    "x = 'reverse'\n",
    "y = x[::-1]\n",
    "print(y)"
   ]
  },
  {
   "cell_type": "code",
   "execution_count": 203,
   "id": "7ce4e3a2-681c-4411-9256-d6cc4709265a",
   "metadata": {},
   "outputs": [
    {
     "ename": "NameError",
     "evalue": "name 'count' is not defined",
     "output_type": "error",
     "traceback": [
      "\u001b[0;31m---------------------------------------------------------------------------\u001b[0m",
      "\u001b[0;31mNameError\u001b[0m                                 Traceback (most recent call last)",
      "Cell \u001b[0;32mIn[203], line 3\u001b[0m\n\u001b[1;32m      1\u001b[0m \u001b[38;5;28mlist\u001b[39m \u001b[38;5;241m=\u001b[39m [\u001b[38;5;241m1\u001b[39m,\u001b[38;5;241m5\u001b[39m,\u001b[38;5;241m2\u001b[39m,\u001b[38;5;241m7\u001b[39m,\u001b[38;5;241m5\u001b[39m]\n\u001b[0;32m----> 3\u001b[0m \u001b[38;5;28mprint\u001b[39m(\u001b[43mcount\u001b[49m(\u001b[38;5;28mlist\u001b[39m))\n",
      "\u001b[0;31mNameError\u001b[0m: name 'count' is not defined"
     ]
    }
   ],
   "source": [
    "list = [1,5,2,7,5]\n",
    "\n",
    "print(count(list))"
   ]
  },
  {
   "cell_type": "code",
   "execution_count": 224,
   "id": "60daffb5-c7a7-4a42-8d96-b9a0b8e130a8",
   "metadata": {},
   "outputs": [
    {
     "name": "stdout",
     "output_type": "stream",
     "text": [
      "[dict_keys(['a', 'b', 'c']), dict_values(['Apple', 'Microsoft', 'Google'])]\n"
     ]
    }
   ],
   "source": [
    "my_dict = {\"a\": \"Apple\", \"b\": \"Microsoft\", \"c\": \"Google\"}\n",
    "\n",
    "keys_list = (my_dict.keys())\n",
    "values_list = (my_dict.values())\n",
    "\n",
    "final_list = [keys_list, values_list]\n",
    "\n",
    "print(final_list)\n",
    "        "
   ]
  },
  {
   "cell_type": "code",
   "execution_count": 232,
   "id": "a522ed0f-1de4-4b04-ae67-ae2e3846789a",
   "metadata": {},
   "outputs": [
    {
     "name": "stdout",
     "output_type": "stream",
     "text": [
      "5 5 5 5 5\n",
      "5 5 5 5 5\n",
      "5 5 5 5 5\n",
      "5 5 5 5 5\n",
      "5 5 5 5 5\n"
     ]
    }
   ],
   "source": [
    "def generate_square(n):\n",
    "    square = [[n] * n for _ in range(n)]\n",
    "    return square\n",
    "\n",
    "n = 5\n",
    "square = generate_square(n)\n",
    "\n",
    "# Print the square\n",
    "for row in square:\n",
    "    print(*row)"
   ]
  },
  {
   "cell_type": "code",
   "execution_count": 241,
   "id": "72706b0e-73d5-4433-8ebd-caaf5c063346",
   "metadata": {},
   "outputs": [
    {
     "name": "stdout",
     "output_type": "stream",
     "text": [
      "22\n",
      "18\n",
      "20\n"
     ]
    }
   ],
   "source": [
    "my_list = ['Hello, my name is Bob.', 'I am 24 years old.', 'I live in Hong Kong.']\n",
    "print(len(my_list[0]))\n",
    "print(len(my_list[1]))\n",
    "print(len(my_list[2]))"
   ]
  },
  {
   "cell_type": "code",
   "execution_count": 246,
   "id": "a0df91a1-6008-4e25-9220-f7461da0cd8c",
   "metadata": {},
   "outputs": [
    {
     "name": "stdout",
     "output_type": "stream",
     "text": [
      "[1, 2, 3, 4, 5]\n"
     ]
    }
   ],
   "source": [
    "list1 = [1,2,3,4,5]\n",
    "list2 = list1.copy()\n",
    "print(list2)"
   ]
  },
  {
   "cell_type": "code",
   "execution_count": 247,
   "id": "72c4206d-5d9b-4908-aa34-1d57e667deee",
   "metadata": {},
   "outputs": [
    {
     "name": "stdout",
     "output_type": "stream",
     "text": [
      "[1, 2, 3, 4, 5, 6]\n"
     ]
    }
   ],
   "source": [
    "my_list = [1,2,3]\n",
    "added_to_list = [4,5,6]\n",
    "\n",
    "my_list +=added_to_list\n",
    "\n",
    "print(my_list)"
   ]
  },
  {
   "cell_type": "code",
   "execution_count": 256,
   "id": "f8c4dd08-445c-4e3b-aff0-9320eea4fae3",
   "metadata": {},
   "outputs": [
    {
     "name": "stdout",
     "output_type": "stream",
     "text": [
      "[1, 2, 3, 0, 'Red', 'Green', 'Black']\n"
     ]
    }
   ],
   "source": [
    "list1 = [1,2,3,0]\n",
    "list2 = ['Red', 'Green', 'Black']\n",
    "list1.extend(list2)\n",
    "newlist = list1 \n",
    "\n",
    "print(newlist)"
   ]
  },
  {
   "cell_type": "code",
   "execution_count": 268,
   "id": "25ca0923-fc14-4273-8cc0-871c690112a5",
   "metadata": {},
   "outputs": [
    {
     "name": "stdin",
     "output_type": "stream",
     "text": [
      "Please enter your name:  Rock\n",
      "Please enter your age:  23\n",
      "Please enter your university:  HKU\n"
     ]
    },
    {
     "name": "stdout",
     "output_type": "stream",
     "text": [
      "Name: Rock, Age: 23, University: HKU\n"
     ]
    }
   ],
   "source": [
    "student = {}\n",
    "name = input(\"Please enter your name: \")\n",
    "age = input(\"Please enter your age: \")\n",
    "uni = input(\"Please enter your university: \")\n",
    "\n",
    "print(\"Name: \" + name + \", \"+ \"Age: \" + age + \",\" + \" University: \" + uni)\n",
    "                     "
   ]
  },
  {
   "cell_type": "code",
   "execution_count": 281,
   "id": "b07aa679-6014-43c9-a531-698215afbd07",
   "metadata": {},
   "outputs": [
    {
     "name": "stdout",
     "output_type": "stream",
     "text": [
      "{'Green', 'White'}\n"
     ]
    }
   ],
   "source": [
    "color1 = [\"Red\", \"Green\", \"Orange\", \"White\"]\n",
    "color2 = [\"Black\", \"Green\", \"White\", \"Pink\"]\n",
    "\n",
    "common_color = set(color1) & set(color2)\n",
    "\n",
    "print(common_color)"
   ]
  },
  {
   "cell_type": "code",
   "execution_count": 285,
   "id": "b2cd66fa-d9ab-48c0-a952-fbd50c88a862",
   "metadata": {},
   "outputs": [
    {
     "ename": "SyntaxError",
     "evalue": "unmatched ')' (807085769.py, line 4)",
     "output_type": "error",
     "traceback": [
      "\u001b[0;36m  Cell \u001b[0;32mIn[285], line 4\u001b[0;36m\u001b[0m\n\u001b[0;31m    odd_items = set(item for item in number if number.count(item) % 2 != 0))\u001b[0m\n\u001b[0m                                                                           ^\u001b[0m\n\u001b[0;31mSyntaxError\u001b[0m\u001b[0;31m:\u001b[0m unmatched ')'\n"
     ]
    }
   ],
   "source": [
    "def identify_odd(number)\n",
    "x = [1,2,3,4,5,6,7,8,9]\n",
    "\n",
    "odd_items = set(item for item in number if number.count(item) % 2 != 0))\n",
    "return odd_items\n",
    "\n",
    "        "
   ]
  },
  {
   "cell_type": "code",
   "execution_count": 306,
   "id": "e6ebb38a-2928-4081-839e-20bf6ceeb0c9",
   "metadata": {},
   "outputs": [
    {
     "data": {
      "text/plain": [
       "'e'"
      ]
     },
     "execution_count": 306,
     "metadata": {},
     "output_type": "execute_result"
    }
   ],
   "source": [
    "full_string = \"It is a far, far better thing that I do, than I have ever done; it is a far, far better rest that I go to than I have ever known.\"\n",
    "\n",
    "#full_string[24:29]\n",
    "full_string[-13::53]"
   ]
  },
  {
   "cell_type": "code",
   "execution_count": 307,
   "id": "f4fdb5ff-ab0f-42c1-8bf3-e00ba4f18772",
   "metadata": {},
   "outputs": [
    {
     "name": "stdout",
     "output_type": "stream",
     "text": [
      "thing rest\n"
     ]
    }
   ],
   "source": [
    "input_string = \"It is a far, far better thing that I do, than I have ever done; it is a far, far better rest that I go to than I have ever known.\"\n",
    "\n",
    "# Remove punctuation marks\n",
    "punctuation = '''!()-[]{};:'\"\\,<>./?@#$%^&*_~'''\n",
    "no_punctuation = ''.join(char for char in input_string if char not in punctuation)\n",
    "\n",
    "# Convert string to lowercase and split into words\n",
    "words = no_punctuation.lower().split()\n",
    "\n",
    "# Create a new string with desired words\n",
    "new_string = ' '.join(word for word in words if word == 'thing' or word == 'rest')\n",
    "\n",
    "print(new_string)"
   ]
  },
  {
   "cell_type": "code",
   "execution_count": 318,
   "id": "4dee3149-5665-43e6-86c4-583afd96c5d1",
   "metadata": {},
   "outputs": [
    {
     "name": "stdout",
     "output_type": "stream",
     "text": [
      "33\n",
      "15\n",
      "33\n",
      "24\n"
     ]
    }
   ],
   "source": [
    "a, b, c, d = [[2,3,4], [4,5,6], [10,11,12], [7,8,9]]\n",
    "add_a = sum(a)\n",
    "add_b = sum(b)\n",
    "add_c = sum(c)\n",
    "add_d = sum(d)\n",
    "total = max(add_a, add_b, add_c, add_d)\n",
    "\n",
    "print(total)\n",
    "print(add_b)\n",
    "print(add_c)\n",
    "print(add_d)"
   ]
  },
  {
   "cell_type": "code",
   "execution_count": 330,
   "id": "908f642a-6713-4949-a735-be37c26ad7f7",
   "metadata": {},
   "outputs": [
    {
     "name": "stdout",
     "output_type": "stream",
     "text": [
      "[10, 11, 12]\n"
     ]
    }
   ],
   "source": [
    "lists = [[2, 3, 4], [4, 5, 6], [10, 11, 12], [7, 8, 9]]\n",
    "max_sum = float('-inf')\n",
    "max_list = None\n",
    "for sublist in lists:\n",
    "    sublist_sum = sum(sublist)\n",
    "    if sublist_sum > max_sum:\n",
    "        max_sum = sublist_sum\n",
    "        max_list = sublist\n",
    "\n",
    "print(max_list)"
   ]
  },
  {
   "cell_type": "code",
   "execution_count": 339,
   "id": "f428f3c4-feab-4c78-9928-5ac9eb1aafb9",
   "metadata": {},
   "outputs": [
    {
     "name": "stdout",
     "output_type": "stream",
     "text": [
      "50 45\n",
      "51 22\n",
      "52 14\n",
      "53 65\n",
      "54 97\n",
      "55 72\n"
     ]
    }
   ],
   "source": [
    "numbers = [45, 22, 14, 65, 97, 72]\n",
    "for i, num in enumerate(numbers, start = 50):\n",
    "    print(i, num)"
   ]
  },
  {
   "cell_type": "code",
   "execution_count": 42,
   "id": "c8140973-5dd9-4201-81c3-d1cdbd146844",
   "metadata": {},
   "outputs": [
    {
     "name": "stdout",
     "output_type": "stream",
     "text": [
      "animal\n",
      "dog\n"
     ]
    }
   ],
   "source": [
    "class Dog:\n",
    "    attr1 = 'animal'\n",
    "    attr2 = 'dog'\n",
    "    \n",
    "    def fun(self):\n",
    "        print(\"I'm an\", self.attr1)\n",
    "\n",
    "Rodger = Dog()\n",
    "print(Rodger.attr1)\n",
    "print(Rodger.attr2)"
   ]
  },
  {
   "cell_type": "code",
   "execution_count": 40,
   "id": "528677cf-e9cf-4661-80d4-57e8bd444125",
   "metadata": {},
   "outputs": [],
   "source": [
    "class GFG:\n",
    "    def __init__(self, name, company):\n",
    "        self.name = name\n",
    "        self.company = company\n",
    "\n",
    "    def show(self):\n",
    "        print('Hello, my name is ' + str(self.name) + ' and I work in ' + str(self.company))\n"
   ]
  },
  {
   "cell_type": "code",
   "execution_count": 370,
   "id": "12b76800-d895-4b44-9de0-9bcbb6cc6388",
   "metadata": {},
   "outputs": [
    {
     "name": "stdout",
     "output_type": "stream",
     "text": [
      "Hello, my name is John and I work in Xccelerate\n"
     ]
    }
   ],
   "source": [
    "obj = GFG(name = 'John', company = 'Xccelerate')\n",
    "obj.show()"
   ]
  },
  {
   "cell_type": "code",
   "execution_count": 372,
   "id": "11583e24-307e-420e-8fa8-69bc79927e3d",
   "metadata": {},
   "outputs": [
    {
     "name": "stdout",
     "output_type": "stream",
     "text": [
      "Dog\n",
      "Pug\n",
      "Brown\n"
     ]
    }
   ],
   "source": [
    "class Dog:\n",
    "    animal = 'Dog'\n",
    "\n",
    "    def __init__(self, breed, color):\n",
    "        self.breed = breed\n",
    "        self.color = color\n",
    "\n",
    "Rodger = Dog('Pug', 'Brown')\n",
    "Buzo = Dog('German Sh.', 'Black')\n",
    "\n",
    "print(Rodger.animal)\n",
    "print(Rodger.breed)\n",
    "print(Rodger.color)"
   ]
  },
  {
   "cell_type": "code",
   "execution_count": 373,
   "id": "13a7c8e6-0735-49e8-b1bd-86e20ad6de6d",
   "metadata": {},
   "outputs": [
    {
     "name": "stdout",
     "output_type": "stream",
     "text": [
      "brown\n"
     ]
    }
   ],
   "source": [
    "class Dog:\n",
    "    animal = 'Dog'\n",
    "    #the init method or constructor\n",
    "    def __init__(self, breed):\n",
    "        self.breed = breed\n",
    "\n",
    "    #Add and instance variable\n",
    "    def setColor(self, color):\n",
    "        self.color = color\n",
    "\n",
    "    #retrives instance variable\n",
    "    def getColor(self):\n",
    "        return self.color\n",
    "\n",
    "#Driver code\n",
    "Rodger = Dog('Pug')\n",
    "Rodger.setColor('brown')\n",
    "print(Rodger.getColor())"
   ]
  },
  {
   "cell_type": "code",
   "execution_count": 374,
   "id": "cc5c1623-403c-49b7-b68f-673277d6b636",
   "metadata": {},
   "outputs": [
    {
     "name": "stdout",
     "output_type": "stream",
     "text": [
      "Name : Mountain Bike, Gears : 11\n"
     ]
    }
   ],
   "source": [
    "class Bike:\n",
    "    name = ' '\n",
    "    gear = 0\n",
    "\n",
    "bike1 = Bike()\n",
    "\n",
    "#Accessing attributes and assigning new values\n",
    "bike1.gear = 11\n",
    "bike1.name = 'Mountain Bike'\n",
    "\n",
    "print(f\"Name : {bike1.name}, Gears : {bike1.gear}\")\n"
   ]
  },
  {
   "cell_type": "code",
   "execution_count": 375,
   "id": "a972b8a6-5ac1-463d-a914-0ccb2b58b3fd",
   "metadata": {},
   "outputs": [
    {
     "name": "stdout",
     "output_type": "stream",
     "text": [
      "Employee ID : 1001\n"
     ]
    }
   ],
   "source": [
    "class Employee:\n",
    "    #define attribute\n",
    "    employee_id = 0\n",
    "\n",
    "#creating two objects of emp class\n",
    "employee1 = Employee()\n",
    "employee2 = Employee()\n",
    "\n",
    "#Accessing the attribute using employee1\n",
    "employee1.employee_id = 1001\n",
    "print(f\"Employee ID : {employee1.employee_id}\")\n"
   ]
  },
  {
   "cell_type": "code",
   "execution_count": 376,
   "id": "ca49c384-0d68-420b-b158-ead1d826be20",
   "metadata": {},
   "outputs": [
    {
     "name": "stdout",
     "output_type": "stream",
     "text": [
      "Employee ID : 1002\n"
     ]
    }
   ],
   "source": [
    "employee2.employee_id = 1002\n",
    "print(f\"Employee ID : {employee2.employee_id}\")"
   ]
  },
  {
   "cell_type": "code",
   "execution_count": 380,
   "id": "e4a428fa-c244-41f4-aaec-efabb39f1008",
   "metadata": {},
   "outputs": [
    {
     "name": "stdout",
     "output_type": "stream",
     "text": [
      "Area of the room : 882\n"
     ]
    }
   ],
   "source": [
    "class Room:\n",
    "    length = 0\n",
    "    breadth = 0\n",
    "    #Method to claculate the are\n",
    "    def area(self):\n",
    "        print('Area of the room :', self.length * self.breadth)\n",
    "\n",
    "#creating a variable of class room\n",
    "study_room = Room()\n",
    "\n",
    "#Modifying the values\n",
    "study_room.length = 42\n",
    "study_room.breadth = 21\n",
    "\n",
    "#area\n",
    "study_room.area()"
   ]
  },
  {
   "cell_type": "code",
   "execution_count": null,
   "id": "532592b8-a471-43f5-a98a-7ecc69213219",
   "metadata": {},
   "outputs": [],
   "source": []
  },
  {
   "cell_type": "code",
   "execution_count": null,
   "id": "908b2abc-78cc-42a4-8167-2e434451c6b8",
   "metadata": {},
   "outputs": [],
   "source": []
  },
  {
   "cell_type": "code",
   "execution_count": null,
   "id": "819a5517-5788-4957-aa75-87d5e5184d28",
   "metadata": {},
   "outputs": [],
   "source": []
  },
  {
   "cell_type": "code",
   "execution_count": 378,
   "id": "7aa9ea5b-9466-4239-b4e8-cc63406687e9",
   "metadata": {},
   "outputs": [
    {
     "name": "stdout",
     "output_type": "stream",
     "text": [
      "Vehicle Name : School Volovo\n",
      "Speed : 180\n",
      "Mileage : 12\n"
     ]
    }
   ],
   "source": [
    "#creating a class\n",
    "class Vehicle:\n",
    "    def __init__(self, name, max_speed, mileage):\n",
    "        self.name = name\n",
    "        self.max_speed = max_speed\n",
    "        self.mileage = mileage\n",
    "\n",
    "class Bus(Vehicle):\n",
    "    pass\n",
    "\n",
    "#Driver Code\n",
    "School_bus = Bus('School Volovo', 180, 12)\n",
    "print('Vehicle Name :', School_bus.name)\n",
    "print('Speed :', School_bus.max_speed)\n",
    "print('Mileage :', School_bus.mileage)"
   ]
  },
  {
   "cell_type": "code",
   "execution_count": 395,
   "id": "e68069ce-9ed3-438a-afe6-0429be0fdd66",
   "metadata": {},
   "outputs": [
    {
     "name": "stdout",
     "output_type": "stream",
     "text": [
      "Sandy born in 1996 and he is a lab He is 27 years old\n",
      "Ronie born in 1989 and he is a golden retriver He is 34 years old\n"
     ]
    }
   ],
   "source": [
    "import datetime\n",
    "\n",
    "class DOG:\n",
    "    def __init__(self, name, dob, breed):\n",
    "        self.name = name\n",
    "        self.dob = dob\n",
    "        self.breed = breed\n",
    "\n",
    "    def in_print_years(self):\n",
    "        return datetime.date.today().year - self.dob\n",
    "\n",
    "    def __str__(self):\n",
    "        return f\"{self.name} born in {self.dob} and he is a {self.breed}\"\n",
    "\n",
    "dog1 = DOG(name = 'Sandy', dob = 1996, breed = 'lab')\n",
    "dog2 = DOG(name = 'Ronie', dob = 1989, breed = 'golden retriver')\n",
    "\n",
    "print(dog1, \"He is\",dog1.in_print_years(), \"years old\")\n",
    "print(dog2, \"He is\",dog2.in_print_years(), \"years old\")\n",
    "    \n"
   ]
  },
  {
   "cell_type": "code",
   "execution_count": 3,
   "id": "54918c48-df30-4c42-aa46-16f6cd4d4479",
   "metadata": {},
   "outputs": [
    {
     "name": "stdout",
     "output_type": "stream",
     "text": [
      "5\n"
     ]
    }
   ],
   "source": [
    "class MyClass:\n",
    "    x = 5\n",
    "\n",
    "p1 = MyClass()\n",
    "print(p1.x)"
   ]
  },
  {
   "cell_type": "code",
   "execution_count": 8,
   "id": "1974b12a-ea16-4360-aa08-63d643f6cf13",
   "metadata": {},
   "outputs": [
    {
     "name": "stdout",
     "output_type": "stream",
     "text": [
      "Hi, This is John. I am 36 years old.\n",
      "Hi, This is Rocky. I am 28 years old.\n",
      "Hi, This is Sam. I am 34 years old.\n"
     ]
    }
   ],
   "source": [
    "class Person:\n",
    "    def __init__(self, name, age):\n",
    "        self.name = name\n",
    "        self.age = age\n",
    "    def __str__(self):\n",
    "        return f\"Hi, This is {self.name}. I am {self.age} years old.\"\n",
    "    \n",
    "\n",
    "p1 = Person(\"John\", 36)\n",
    "p2 = Person(\"Rocky\", 28)\n",
    "p3 = Person(\"Sam\", 34)\n",
    "\n",
    "print(p1)\n",
    "print(p2)\n",
    "print(p3)\n",
    "        \n",
    "    "
   ]
  },
  {
   "cell_type": "code",
   "execution_count": 19,
   "id": "def8f777-6433-48ec-b5dc-fdd1b92a0919",
   "metadata": {},
   "outputs": [
    {
     "name": "stdout",
     "output_type": "stream",
     "text": [
      "Hello my name isJohn\n"
     ]
    }
   ],
   "source": [
    "class Person:\n",
    "    def __init__(selfie, name, age):\n",
    "        selfie.name = name\n",
    "        selfie.age = age\n",
    "\n",
    "    def myfunc(selfie):\n",
    "        print(\"Hello my name is\" + selfie.name)\n",
    "\n",
    "p1 = Person(\"John\", 36)\n",
    "\n",
    "p1.myfunc()\n",
    "    \n",
    "    "
   ]
  },
  {
   "cell_type": "code",
   "execution_count": 29,
   "id": "ecf17bf3-c62c-4bf2-ae2d-027989badded",
   "metadata": {},
   "outputs": [
    {
     "name": "stdout",
     "output_type": "stream",
     "text": [
      "GeekforGeeks\n"
     ]
    }
   ],
   "source": [
    "class GeekforGeeks:\n",
    "    def __init__(self):\n",
    "        self.geek = \"GeekforGeeks\"\n",
    "\n",
    "    def print_geek(self):\n",
    "        print(self.geek)\n",
    "\n",
    "obj = GeekforGeeks()\n",
    "obj.print_geek()\n",
    "    "
   ]
  },
  {
   "cell_type": "code",
   "execution_count": 36,
   "id": "8362cc22-3f21-4f7f-a88a-c5e8377c28a6",
   "metadata": {},
   "outputs": [
    {
     "name": "stdout",
     "output_type": "stream",
     "text": [
      "First number =100\n",
      "Second number =60\n",
      "Addition of two numbers =160\n",
      "First number =120\n",
      "Second number =80\n",
      "Addition of two numbers =200\n"
     ]
    }
   ],
   "source": [
    "class Addition:\n",
    "    first = 0\n",
    "    second = 0\n",
    "    answer = 0\n",
    "\n",
    "    def __init__(self, f, s):\n",
    "        self.first = f\n",
    "        self.second = s\n",
    "\n",
    "    def calculate(self):\n",
    "        self.answer = (self.first + self.second)\n",
    "    \n",
    "    def display(self):\n",
    "        print(\"First number =\" + str(self.first))\n",
    "        print(\"Second number =\" + str(self.second))\n",
    "        print(\"Addition of two numbers =\" + str(self.answer))\n",
    "\n",
    "\n",
    "obj1 = Addition(100, 60)\n",
    "obj2 = Addition(120, 80)\n",
    "\n",
    "obj1.calculate()\n",
    "obj1.display()\n",
    "obj2.calculate()\n",
    "obj2.display()"
   ]
  },
  {
   "cell_type": "code",
   "execution_count": 35,
   "id": "8169ce27-8093-4d99-aaef-b9e562859e6e",
   "metadata": {},
   "outputs": [
    {
     "name": "stdout",
     "output_type": "stream",
     "text": [
      "First number = 1000\n",
      "Second number = 2000\n",
      "Addition of two numbers = 3000\n",
      "First number = 10\n",
      "Second number = 20\n",
      "Addition of two numbers = 30\n"
     ]
    }
   ],
   "source": [
    "class Addition:\n",
    "\tfirst = 0\n",
    "\tsecond = 0\n",
    "\tanswer = 0\n",
    "\n",
    "\t# parameterized constructor\n",
    "\tdef __init__(self, f, s):\n",
    "\t\tself.first = f\n",
    "\t\tself.second = s\n",
    "\n",
    "\tdef display(self):\n",
    "\t\tprint(\"First number = \" + str(self.first))\n",
    "\t\tprint(\"Second number = \" + str(self.second))\n",
    "\t\tprint(\"Addition of two numbers = \" + str(self.answer))\n",
    "\n",
    "\tdef calculate(self):\n",
    "\t\tself.answer = self.first + self.second\n",
    "\n",
    "\n",
    "# creating object of the class\n",
    "# this will invoke parameterized constructor\n",
    "obj1 = Addition(1000, 2000)\n",
    "\n",
    "# creating second object of same class\n",
    "obj2 = Addition(10, 20)\n",
    "\n",
    "# perform Addition on obj1\n",
    "obj1.calculate()\n",
    "\n",
    "# perform Addition on obj2\n",
    "obj2.calculate()\n",
    "\n",
    "# display result of obj1\n",
    "obj1.display()\n",
    "\n",
    "# display result of obj2\n",
    "obj2.display()\n"
   ]
  },
  {
   "cell_type": "code",
   "execution_count": 95,
   "id": "66a90ab8-b1e6-473d-b6ae-149dc3994142",
   "metadata": {},
   "outputs": [
    {
     "name": "stdout",
     "output_type": "stream",
     "text": [
      "I have a Pug and he is brown color\n"
     ]
    }
   ],
   "source": [
    "class Dog:\n",
    "\n",
    "    def __init__(self, breed, color):\n",
    "        self.breed = breed\n",
    "        self.color = color\n",
    "    def getcolor(self):\n",
    "        print(\"I have a\", self.breed, \"and he is\", self.color, \"color\")\n",
    "\n",
    "Rodger = Dog(\"Pug\", \"brown\")\n",
    "Rodger.getcolor()"
   ]
  },
  {
   "cell_type": "code",
   "execution_count": null,
   "id": "9b499635-ba64-47d1-a38b-5280e1a42794",
   "metadata": {},
   "outputs": [],
   "source": []
  },
  {
   "cell_type": "code",
   "execution_count": 102,
   "id": "99f22513-9c69-4372-b933-f7293e184af1",
   "metadata": {},
   "outputs": [],
   "source": [
    "file_path = \"pythonProject1.txt\"\n",
    "file = open(file_path, \"a\")\n",
    "file.write(\"This is an additional content.\")\n",
    "file.close()"
   ]
  },
  {
   "cell_type": "code",
   "execution_count": 100,
   "id": "40f1fc98-7a92-4b7a-856c-93141a46430d",
   "metadata": {},
   "outputs": [],
   "source": [
    "file_path = \"example.bin\"\n",
    "data = bytes([6,7,8])\n",
    "with open(file_path, \"ab\") as file:\n",
    "    file.write(data)\n",
    "    file.close()"
   ]
  },
  {
   "cell_type": "code",
   "execution_count": null,
   "id": "2f28143b-03b2-4c5b-8026-270fdd3c1905",
   "metadata": {},
   "outputs": [],
   "source": [
    "import csv\n",
    "file_path = \"example.csv\"\n",
    "data = [\n",
    "    [\"steve\", \"40\", \"Tokyo"
   ]
  },
  {
   "cell_type": "code",
   "execution_count": 101,
   "id": "c7dadf74-f72e-4378-aeff-30c4c04decef",
   "metadata": {},
   "outputs": [],
   "source": [
    "file_path = \"pythonProject1.txt\"\n",
    "file = open(file_path, \"r\")"
   ]
  },
  {
   "cell_type": "code",
   "execution_count": 2,
   "id": "516e7dce-19d5-4c23-9d4a-d72a32fb0066",
   "metadata": {},
   "outputs": [
    {
     "name": "stdout",
     "output_type": "stream",
     "text": [
      "Welcome to 'Kaun Banega Crorepati?' quiz show\n",
      "\n",
      "--------------------\n"
     ]
    },
    {
     "name": "stdin",
     "output_type": "stream",
     "text": [
      "What is the capital of India?  new delhi\n"
     ]
    },
    {
     "name": "stdout",
     "output_type": "stream",
     "text": [
      "Right answer. Now moving to your next question\n"
     ]
    }
   ],
   "source": [
    "print(\"Welcome to 'Kaun Banega Crorepati?' quiz show\")\n",
    "print(\"\")\n",
    "print(\"-\"*20)\n",
    "\n",
    "name_user = input(\"What is the capital of India? \")\n",
    "\n",
    "if name_user.lower() == \"new delhi\":\n",
    "    print(\"Right answer. Now moving to your next question\")\n",
    "\n",
    "else:\n",
    "    print(\"Better luck next time\")\n"
   ]
  },
  {
   "cell_type": "code",
   "execution_count": 56,
   "id": "9e2b7fe1-6d32-45b5-aa17-279db15e9ab3",
   "metadata": {},
   "outputs": [
    {
     "name": "stdin",
     "output_type": "stream",
     "text": [
      " 4\n"
     ]
    },
    {
     "name": "stdout",
     "output_type": "stream",
     "text": [
      "Not weird\n"
     ]
    }
   ],
   "source": [
    "import math\n",
    "import os\n",
    "import random\n",
    "import re\n",
    "import sys\n",
    "\n",
    "if __name__ == '__main__':\n",
    "    n = int(input().strip())\n",
    "if n %2 != 0:\n",
    "    print(\"Weird\")\n",
    "    \n",
    "elif n in range(2,5) and n%2 ==0:\n",
    "    print(\"Not weird\")\n",
    "\n",
    "elif n in range(6,20) and n%2 == 0:\n",
    "    print(\"Weird\")\n",
    "\n",
    "elif n > 20 and n%2 == 0:\n",
    "    print(\"Not Weird\")"
   ]
  },
  {
   "cell_type": "code",
   "execution_count": 33,
   "id": "ee9a1c73-e8bf-4ce1-905f-877234f154c8",
   "metadata": {},
   "outputs": [
    {
     "name": "stdin",
     "output_type": "stream",
     "text": [
      " 3\n",
      " 5\n"
     ]
    },
    {
     "name": "stdout",
     "output_type": "stream",
     "text": [
      "8\n",
      "-2\n",
      "15\n"
     ]
    }
   ],
   "source": [
    "if __name__ == '__main__':\n",
    "    a = int(input())\n",
    "    b = int(input())\n",
    "\n",
    "print(a+b)\n",
    "print(a-b)\n",
    "print(a*b)\n"
   ]
  },
  {
   "cell_type": "code",
   "execution_count": 36,
   "id": "1c2a2092-256e-4805-94b8-ed33d610c756",
   "metadata": {},
   "outputs": [
    {
     "name": "stdin",
     "output_type": "stream",
     "text": [
      " 20\n",
      " 5\n"
     ]
    },
    {
     "name": "stdout",
     "output_type": "stream",
     "text": [
      "4\n",
      "4.0\n"
     ]
    }
   ],
   "source": [
    "if __name__ == '__main__':\n",
    "    a = int(input())\n",
    "    b = int(input())\n",
    "\n",
    "print(a//b)\n",
    "print(a/b)"
   ]
  },
  {
   "cell_type": "code",
   "execution_count": 39,
   "id": "4abae4a2-a9a3-4e18-8790-f0ff052ac8f7",
   "metadata": {},
   "outputs": [
    {
     "name": "stdin",
     "output_type": "stream",
     "text": [
      " 5\n"
     ]
    },
    {
     "name": "stdout",
     "output_type": "stream",
     "text": [
      "0\n",
      "1\n",
      "4\n",
      "9\n",
      "16\n"
     ]
    }
   ],
   "source": [
    "if __name__ == '__main__':\n",
    "    n = int(input())\n",
    "i = 0\n",
    "while i<n:\n",
    "    print(i**2)\n",
    "    i+=1"
   ]
  },
  {
   "cell_type": "code",
   "execution_count": 53,
   "id": "6f3be4e0-0aa3-4729-94b3-ecca4649ae2c",
   "metadata": {},
   "outputs": [
    {
     "name": "stdin",
     "output_type": "stream",
     "text": [
      "Enter your first name Tony\n"
     ]
    },
    {
     "name": "stdout",
     "output_type": "stream",
     "text": [
      "Tony's age is 51 years old.\n",
      "Tony is a genius\n"
     ]
    }
   ],
   "source": [
    "first_name = input(\"Enter your first name\")\n",
    "last_name = \"Shark\"\n",
    "age = 51\n",
    "\n",
    "print(first_name+\"'s age is \"+str(age)+\" years old.\")\n",
    "print(first_name+\" is a genius\")"
   ]
  },
  {
   "cell_type": "code",
   "execution_count": 57,
   "id": "22476335-2e63-4d9c-baf2-5e28dae73e35",
   "metadata": {},
   "outputs": [
    {
     "name": "stdin",
     "output_type": "stream",
     "text": [
      "Enter first number : 4\n",
      "Enter operator (+,-,*,/,%) :  +\n",
      "Enter second number :  5\n"
     ]
    },
    {
     "name": "stdout",
     "output_type": "stream",
     "text": [
      "9\n"
     ]
    }
   ],
   "source": [
    "first = input(\"Enter first number :\")\n",
    "operator = input(\"Enter operator (+,-,*,/,%) : \")\n",
    "second = input(\"Enter second number : \")\n",
    "\n",
    "if operator == \"+\":\n",
    "    print(int(first)+int(second))\n",
    "\n",
    "elif operator == \"-\":\n",
    "    print(int(first)-int(second))\n",
    "\n",
    "elif operator == \"*\":\n",
    "    print(int(first)*int(second))    \n",
    "\n",
    "elif operator == \"/\":\n",
    "    print(int(first)/int(second))    \n",
    "\n",
    "elif operator == \"%\":\n",
    "    print(int(first)%int(second))\n",
    "\n",
    "else:\n",
    "    print(\"Invalid operator\")"
   ]
  },
  {
   "cell_type": "code",
   "execution_count": 64,
   "id": "7dff159d-91ba-4817-be34-f7884b925095",
   "metadata": {},
   "outputs": [
    {
     "name": "stdout",
     "output_type": "stream",
     "text": [
      "0\n",
      "2\n",
      "4\n",
      "6\n",
      "8\n",
      "10\n"
     ]
    }
   ],
   "source": [
    "i = 0\n",
    "while i <= 10:\n",
    "    print(i) \n",
    "    i+=2"
   ]
  },
  {
   "cell_type": "code",
   "execution_count": 74,
   "id": "3db624b4-bf3d-4c99-bfd1-9a03dfe80dde",
   "metadata": {},
   "outputs": [
    {
     "name": "stdout",
     "output_type": "stream",
     "text": [
      "ram\n",
      "Shyam\n",
      "Kishan\n"
     ]
    }
   ],
   "source": [
    "students = [\"ram\", \"Shyam\", \"Kishan\", \"Radha\", \"Radhika\"]\n",
    "\n",
    "for i in students:\n",
    "    if i == \"Radha\":\n",
    "        break;\n",
    "    print(i)\n",
    "     \n",
    "            "
   ]
  },
  {
   "cell_type": "code",
   "execution_count": 81,
   "id": "1665b663-9f9e-4dcd-9a62-81ce9a3c0eab",
   "metadata": {},
   "outputs": [
    {
     "name": "stdout",
     "output_type": "stream",
     "text": [
      "98\n",
      "{'english': 95, 'chemistry': 93, 'physics': 98}\n"
     ]
    }
   ],
   "source": [
    "marks = {\"english\" : 95, \"chemistry\" : 93}\n",
    "\n",
    "marks[\"physics\"] = 98\n",
    "\n",
    "print(marks[\"physics\"])\n",
    "print(marks)"
   ]
  },
  {
   "cell_type": "code",
   "execution_count": 1,
   "id": "a07b9f47-375d-4799-a190-1e3aeb9b6e65",
   "metadata": {},
   "outputs": [
    {
     "name": "stdout",
     "output_type": "stream",
     "text": [
      "['__doc__', '__file__', '__loader__', '__name__', '__package__', '__spec__', 'acos', 'acosh', 'asin', 'asinh', 'atan', 'atan2', 'atanh', 'cbrt', 'ceil', 'comb', 'copysign', 'cos', 'cosh', 'degrees', 'dist', 'e', 'erf', 'erfc', 'exp', 'exp2', 'expm1', 'fabs', 'factorial', 'floor', 'fmod', 'frexp', 'fsum', 'gamma', 'gcd', 'hypot', 'inf', 'isclose', 'isfinite', 'isinf', 'isnan', 'isqrt', 'lcm', 'ldexp', 'lgamma', 'log', 'log10', 'log1p', 'log2', 'modf', 'nan', 'nextafter', 'perm', 'pi', 'pow', 'prod', 'radians', 'remainder', 'sin', 'sinh', 'sqrt', 'tan', 'tanh', 'tau', 'trunc', 'ulp']\n"
     ]
    }
   ],
   "source": [
    "import math\n",
    "print(dir(math))"
   ]
  },
  {
   "cell_type": "code",
   "execution_count": 16,
   "id": "27011c0d-78cf-4f0f-bbd5-563a30dea231",
   "metadata": {},
   "outputs": [
    {
     "name": "stdout",
     "output_type": "stream",
     "text": [
      "6.6332495807108\n"
     ]
    }
   ],
   "source": [
    "from math import sqrt\n",
    "print(sqrt(44))"
   ]
  },
  {
   "cell_type": "code",
   "execution_count": 33,
   "id": "8f418d1b-5019-435d-ba45-1c51dc178052",
   "metadata": {},
   "outputs": [
    {
     "name": "stdout",
     "output_type": "stream",
     "text": [
      "11\n"
     ]
    }
   ],
   "source": [
    "def print_sum(a, b):\n",
    "    print(a + b)\n",
    "\n",
    "\n",
    "print_sum(3, 8)"
   ]
  },
  {
   "cell_type": "code",
   "execution_count": 39,
   "id": "c67dd5a6-5fb7-4f82-9f56-060fe4ac1f4d",
   "metadata": {},
   "outputs": [
    {
     "name": "stdout",
     "output_type": "stream",
     "text": [
      "You are a kid\n",
      "Thank you\n"
     ]
    }
   ],
   "source": [
    "age = 6\n",
    "\n",
    "if age >= 18:\n",
    "    print(\"You are an adult\")\n",
    "    print(\"You can vote\")\n",
    "\n",
    "elif 18 > age > 10:\n",
    "    print(\"You are a child\")\n",
    "\n",
    "else:\n",
    "    print(\"You are a kid\")\n",
    "\n",
    "print(\"Thank you\")"
   ]
  },
  {
   "cell_type": "code",
   "execution_count": 78,
   "id": "ed094262-13b0-460a-a9c2-6a703a27f17c",
   "metadata": {},
   "outputs": [
    {
     "name": "stdout",
     "output_type": "stream",
     "text": [
      "1900 is a LEAP year\n",
      "1901 *******\n",
      "1902 *******\n",
      "1903 *******\n",
      "1904 is a LEAP year\n",
      "1905 *******\n",
      "1906 *******\n",
      "1907 *******\n",
      "1908 is a LEAP year\n",
      "1909 *******\n",
      "1910 *******\n",
      "1911 *******\n",
      "1912 is a LEAP year\n",
      "1913 *******\n",
      "1914 *******\n",
      "1915 *******\n",
      "1916 is a LEAP year\n",
      "1917 *******\n",
      "1918 *******\n",
      "1919 *******\n",
      "1920 is a LEAP year\n",
      "1921 *******\n",
      "1922 *******\n",
      "1923 *******\n",
      "1924 is a LEAP year\n",
      "1925 *******\n",
      "1926 *******\n",
      "1927 *******\n",
      "1928 is a LEAP year\n",
      "1929 *******\n",
      "1930 *******\n",
      "1931 *******\n",
      "1932 is a LEAP year\n",
      "1933 *******\n",
      "1934 *******\n",
      "1935 *******\n",
      "1936 is a LEAP year\n",
      "1937 *******\n",
      "1938 *******\n",
      "1939 *******\n",
      "1940 is a LEAP year\n",
      "1941 *******\n",
      "1942 *******\n",
      "1943 *******\n",
      "1944 is a LEAP year\n",
      "1945 *******\n",
      "1946 *******\n",
      "1947 *******\n",
      "1948 is a LEAP year\n",
      "1949 *******\n",
      "1950 *******\n",
      "1951 *******\n",
      "1952 is a LEAP year\n",
      "1953 *******\n",
      "1954 *******\n",
      "1955 *******\n",
      "1956 is a LEAP year\n",
      "1957 *******\n",
      "1958 *******\n",
      "1959 *******\n",
      "1960 is a LEAP year\n",
      "1961 *******\n",
      "1962 *******\n",
      "1963 *******\n",
      "1964 is a LEAP year\n",
      "1965 *******\n",
      "1966 *******\n",
      "1967 *******\n",
      "1968 is a LEAP year\n",
      "1969 *******\n",
      "1970 *******\n",
      "1971 *******\n",
      "1972 is a LEAP year\n",
      "1973 *******\n",
      "1974 *******\n",
      "1975 *******\n",
      "1976 is a LEAP year\n",
      "1977 *******\n",
      "1978 *******\n",
      "1979 *******\n",
      "1980 is a LEAP year\n",
      "1981 *******\n",
      "1982 *******\n",
      "1983 *******\n",
      "1984 is a LEAP year\n",
      "1985 *******\n",
      "1986 *******\n",
      "1987 *******\n",
      "1988 is a LEAP year\n",
      "1989 *******\n",
      "1990 *******\n",
      "1991 *******\n",
      "1992 is a LEAP year\n",
      "1993 *******\n",
      "1994 *******\n",
      "1995 *******\n",
      "1996 is a LEAP year\n",
      "1997 *******\n",
      "1998 *******\n",
      "1999 *******\n",
      "2000 is a LEAP year\n",
      "2001 *******\n",
      "2002 *******\n",
      "2003 *******\n",
      "2004 is a LEAP year\n",
      "2005 *******\n",
      "2006 *******\n",
      "2007 *******\n",
      "2008 is a LEAP year\n",
      "2009 *******\n",
      "2010 *******\n",
      "2011 *******\n",
      "2012 is a LEAP year\n",
      "2013 *******\n",
      "2014 *******\n",
      "2015 *******\n",
      "2016 is a LEAP year\n",
      "2017 *******\n",
      "2018 *******\n",
      "2019 *******\n",
      "2020 is a LEAP year\n",
      "2021 *******\n",
      "2022 *******\n"
     ]
    }
   ],
   "source": [
    "for n in range(1900, 2023):\n",
    "    if n%4 == 0:\n",
    "        print(str(n)+ \" is a LEAP year\")\n",
    "    elif n%100 == 0:\n",
    "        print(str(n)+\" It is NOT a leap year\")\n",
    "    elif n%400 == 0:\n",
    "        print(str(n)+\" It is a leap year\")\n",
    "    else:\n",
    "        print(str(n)+\" *******\")\n",
    "        n += 1"
   ]
  },
  {
   "cell_type": "code",
   "execution_count": 87,
   "id": "12bfba86-4387-4a2d-8de9-3ceaf01608bf",
   "metadata": {},
   "outputs": [
    {
     "name": "stdout",
     "output_type": "stream",
     "text": [
      "1900 is not a leap year\n",
      "1901 is not a leap year\n",
      "1902 is not a leap year\n",
      "1903 is not a leap year\n",
      "1904 is a leap year\n",
      "1905 is not a leap year\n",
      "1906 is not a leap year\n",
      "1907 is not a leap year\n",
      "1908 is a leap year\n",
      "1909 is not a leap year\n",
      "1910 is not a leap year\n",
      "1911 is not a leap year\n",
      "1912 is a leap year\n",
      "1913 is not a leap year\n",
      "1914 is not a leap year\n",
      "1915 is not a leap year\n",
      "1916 is a leap year\n",
      "1917 is not a leap year\n",
      "1918 is not a leap year\n",
      "1919 is not a leap year\n",
      "1920 is a leap year\n",
      "1921 is not a leap year\n",
      "1922 is not a leap year\n",
      "1923 is not a leap year\n",
      "1924 is a leap year\n",
      "1925 is not a leap year\n",
      "1926 is not a leap year\n",
      "1927 is not a leap year\n",
      "1928 is a leap year\n",
      "1929 is not a leap year\n",
      "1930 is not a leap year\n",
      "1931 is not a leap year\n",
      "1932 is a leap year\n",
      "1933 is not a leap year\n",
      "1934 is not a leap year\n",
      "1935 is not a leap year\n",
      "1936 is a leap year\n",
      "1937 is not a leap year\n",
      "1938 is not a leap year\n",
      "1939 is not a leap year\n",
      "1940 is a leap year\n",
      "1941 is not a leap year\n",
      "1942 is not a leap year\n",
      "1943 is not a leap year\n",
      "1944 is a leap year\n",
      "1945 is not a leap year\n",
      "1946 is not a leap year\n",
      "1947 is not a leap year\n",
      "1948 is a leap year\n",
      "1949 is not a leap year\n",
      "1950 is not a leap year\n",
      "1951 is not a leap year\n",
      "1952 is a leap year\n",
      "1953 is not a leap year\n",
      "1954 is not a leap year\n",
      "1955 is not a leap year\n",
      "1956 is a leap year\n",
      "1957 is not a leap year\n",
      "1958 is not a leap year\n",
      "1959 is not a leap year\n",
      "1960 is a leap year\n",
      "1961 is not a leap year\n",
      "1962 is not a leap year\n",
      "1963 is not a leap year\n",
      "1964 is a leap year\n",
      "1965 is not a leap year\n",
      "1966 is not a leap year\n",
      "1967 is not a leap year\n",
      "1968 is a leap year\n",
      "1969 is not a leap year\n",
      "1970 is not a leap year\n",
      "1971 is not a leap year\n",
      "1972 is a leap year\n",
      "1973 is not a leap year\n",
      "1974 is not a leap year\n",
      "1975 is not a leap year\n",
      "1976 is a leap year\n",
      "1977 is not a leap year\n",
      "1978 is not a leap year\n",
      "1979 is not a leap year\n",
      "1980 is a leap year\n",
      "1981 is not a leap year\n",
      "1982 is not a leap year\n",
      "1983 is not a leap year\n",
      "1984 is a leap year\n",
      "1985 is not a leap year\n",
      "1986 is not a leap year\n",
      "1987 is not a leap year\n",
      "1988 is a leap year\n",
      "1989 is not a leap year\n",
      "1990 is not a leap year\n",
      "1991 is not a leap year\n",
      "1992 is a leap year\n",
      "1993 is not a leap year\n",
      "1994 is not a leap year\n",
      "1995 is not a leap year\n",
      "1996 is a leap year\n",
      "1997 is not a leap year\n",
      "1998 is not a leap year\n",
      "1999 is not a leap year\n"
     ]
    }
   ],
   "source": [
    "def is_leap_year(year):\n",
    "    if year % 4 == 0:\n",
    "        if year % 100 == 0:\n",
    "            if year % 400 == 0:\n",
    "                return True  # Divisible by 400, it is a leap year\n",
    "            else:\n",
    "                return False  # Divisible by 100 but not by 400, it is not a leap year\n",
    "        else:\n",
    "            return True  # Divisible by 4 but not by 100, it is a leap year\n",
    "    else:\n",
    "        return False  # Not divisible by 4, it is not a leap year\n",
    "\n",
    "\n",
    "# Example usage\n",
    "for year in range(1900, 2000):\n",
    "    if is_leap_year(year):\n",
    "        print(f\"{year} is a leap year\")\n",
    "    else:\n",
    "        print(f\"{year} is not a leap year\")"
   ]
  },
  {
   "cell_type": "code",
   "execution_count": 83,
   "id": "2deea1c5-3b16-41a0-8314-e877cdd47ffd",
   "metadata": {},
   "outputs": [
    {
     "name": "stdin",
     "output_type": "stream",
     "text": [
      "Enter a year:  1999\n"
     ]
    },
    {
     "name": "stdout",
     "output_type": "stream",
     "text": [
      "1999 is not a leap year\n"
     ]
    }
   ],
   "source": [
    "def is_leap(year):\n",
    "    if year % 4 == 0:\n",
    "        if year % 100 == 0:\n",
    "            if year % 400 == 0:\n",
    "                return True  # Divisible by 400, it is a leap year\n",
    "            else:\n",
    "                return False  # Divisible by 100 but not by 400, it is not a leap year\n",
    "        else:\n",
    "            return True  # Divisible by 4 but not by 100, it is a leap year\n",
    "    else:\n",
    "        return False  # Not divisible by 4, it is not a leap year\n",
    "\n",
    "\n",
    "# Example usage\n",
    "year = int(input(\"Enter a year: \"))\n",
    "if is_leap(year):\n",
    "    print(f\"{year} is a leap year\")\n",
    "else:\n",
    "    print(f\"{year} is not a leap year\")"
   ]
  },
  {
   "cell_type": "code",
   "execution_count": 90,
   "id": "6df65eca-b376-4d36-88e7-0dc03d1ee20f",
   "metadata": {},
   "outputs": [
    {
     "name": "stdin",
     "output_type": "stream",
     "text": [
      "Enter a year:  2023\n"
     ]
    },
    {
     "name": "stdout",
     "output_type": "stream",
     "text": [
      "2023 is not a leap year\n"
     ]
    }
   ],
   "source": [
    "def is_leap(year):\n",
    "    leap = False\n",
    "    if year % 4 == 0:\n",
    "        if year % 100 == 0:\n",
    "            if year % 400 == 0:\n",
    "                return True # Divisible by 400, It is a leap year\n",
    "            else:\n",
    "                return leap # Divisible 100 but not divisible by 400, It is not a leap year\n",
    "        else: \n",
    "            return True # Divisible by 4 but not divisible by 100, It is a leap year\n",
    "\n",
    "    else:\n",
    "        return leap # Not divisible by 4, It is not a leap year\n",
    "\n",
    "    return leap\n",
    "\n",
    "year = int(input(\"Enter a year: \"))\n",
    "if is_leap(year):\n",
    "    print(f\"{year} is a leap year\")\n",
    "\n",
    "else:\n",
    "    print(f\"{year} is not a leap year\")"
   ]
  },
  {
   "cell_type": "code",
   "execution_count": 93,
   "id": "c2ebbde4-c39e-4bb1-bfd6-885863e45cd3",
   "metadata": {},
   "outputs": [
    {
     "name": "stdin",
     "output_type": "stream",
     "text": [
      " 2023\n"
     ]
    },
    {
     "name": "stdout",
     "output_type": "stream",
     "text": [
      "False\n"
     ]
    }
   ],
   "source": [
    "def is_leap(year):\n",
    "    leap = False\n",
    "    \n",
    "    if year % 4 == 0:\n",
    "        if year % 100 == 0:\n",
    "            if year % 400 == 0:\n",
    "                return True # Divisible by 400, It is a leap year\n",
    "            else:\n",
    "                return leap # Divisible by 100 but not divisible by 400. Not a leap year.\n",
    "        else:\n",
    "            return True # Divisible by 4 but not divisible by 100. leap year\n",
    "    else:\n",
    "        return leap # Not divisible by 4. Not a leap year                          \n",
    "    \n",
    "    return leap\n",
    "\n",
    "year = int(input())\n",
    "print(is_leap(year))"
   ]
  },
  {
   "cell_type": "code",
   "execution_count": 107,
   "id": "addde374-5971-409b-8ff4-b4e960454531",
   "metadata": {},
   "outputs": [
    {
     "name": "stdin",
     "output_type": "stream",
     "text": [
      " 10\n"
     ]
    },
    {
     "name": "stdout",
     "output_type": "stream",
     "text": [
      "1\n",
      "2\n",
      "3\n",
      "4\n",
      "5\n",
      "6\n",
      "7\n",
      "8\n",
      "9\n",
      "10\n"
     ]
    }
   ],
   "source": [
    "n = int(input())\n",
    "\n",
    "\n",
    "for i in range(1,n+1):\n",
    "    print(i)\n",
    "    i +=1\n"
   ]
  },
  {
   "cell_type": "code",
   "execution_count": 110,
   "id": "3eb9b79d-9152-4bae-862a-5de36f94451e",
   "metadata": {},
   "outputs": [
    {
     "name": "stdin",
     "output_type": "stream",
     "text": [
      " 12\n"
     ]
    },
    {
     "name": "stdout",
     "output_type": "stream",
     "text": [
      "123456789101112\n"
     ]
    }
   ],
   "source": [
    "n = int(input())\n",
    "\n",
    "# Create a list of integers from 1 to n\n",
    "numbers = list(range(1, n+1))\n",
    "\n",
    "# Convert the list to a string without spaces\n",
    "result = ''.join(str(num) for num in numbers)\n",
    "\n",
    "print(result)"
   ]
  },
  {
   "cell_type": "code",
   "execution_count": 26,
   "id": "132227db-1339-4958-afb5-4ad830703c89",
   "metadata": {},
   "outputs": [
    {
     "name": "stdout",
     "output_type": "stream",
     "text": [
      "Welcome to 'Treasure of Books' library\n",
      "\n",
      "1. Add a book\n",
      "2. Modify quantity\n",
      "3. Delete a book\n",
      "4. Show remaining books\n",
      "5. Exit\n"
     ]
    },
    {
     "name": "stdin",
     "output_type": "stream",
     "text": [
      "Enter your choice (1-5):  5\n"
     ]
    },
    {
     "name": "stdout",
     "output_type": "stream",
     "text": [
      "...\n",
      "Thank you.\n"
     ]
    }
   ],
   "source": [
    "import os\n",
    "\n",
    "def display_menu():\n",
    "    print(\"Welcome to 'Treasure of Books' library\")\n",
    "    print(\"\")\n",
    "    print(\"1. Add a book\")\n",
    "    print(\"2. Modify quantity\")\n",
    "    print(\"3. Delete a book\")\n",
    "    print(\"4. Show remaining books\")\n",
    "    print(\"5. Exit\")\n",
    "\n",
    "def add_book():\n",
    "    book_name = input(\"Enter the name of the book: \")\n",
    "    quantity = input(\"Enter the quantity: \")\n",
    "\n",
    "    with open(\"library.txt\", \"a\") as file:\n",
    "        file.write(f\"{book_name},{quantity}\\n\")\n",
    "\n",
    "    print(\"Book added successfully!\")\n",
    "    print(\"(*_*) \" * 10)\n",
    "    print(\"\")\n",
    "    \n",
    "\n",
    "def modify_quantity():\n",
    "    book_name = input(\"Enter the name of the book: \")\n",
    "    new_quantity = input(\"Enter the new quantity: \")\n",
    "    \n",
    "\n",
    "    temp_file = open(\"temp.txt\", \"w\")\n",
    "\n",
    "    with open(\"library.txt\", \"r\") as file:\n",
    "        lines = file.readlines()\n",
    "        for line in lines:\n",
    "            name, quantity = line.strip().split(\",\")\n",
    "            current_quantity = int(quantity) + new_quantity\n",
    "    \n",
    "    for line in lines:\n",
    "            name, quantity = line.strip().split(\",\")\n",
    "            if name.lower() == book_name.lower():\n",
    "                temp_file.write(f\"{name},{current_quantity}\\n\")\n",
    "                print(\"Quantity modified successfully!\")\n",
    "                print(\"-_-\" * 10)\n",
    "                print(\"\")\n",
    "            else:\n",
    "                temp_file.write(line)\n",
    "\n",
    "    temp_file.close()\n",
    "    os.remove(\"library.txt\")\n",
    "    os.rename(\"temp.txt\", \"library.txt\")\n",
    "\n",
    "\n",
    "def delete_book():\n",
    "    book_name = input(\"Enter the name of the book: \")\n",
    "\n",
    "    temp_file = open(\"temp.txt\", \"w\")\n",
    "\n",
    "    with open(\"library.txt\", \"r\") as file:\n",
    "        lines = file.readlines()\n",
    "\n",
    "        for line in lines:\n",
    "            name, quantity = line.strip().split(\",\")\n",
    "            if name.lower() != book_name.lower():\n",
    "                temp_file.write(line)\n",
    "            else:\n",
    "                print(\"Book deleted successfully!\")\n",
    "                print(\"\")\n",
    "\n",
    "    temp_file.close()\n",
    "    os.remove(\"library.txt\")\n",
    "    os.rename(\"temp.txt\", \"library.txt\")\n",
    "\n",
    "def show_status():\n",
    "    print(\"Remaining Books:\")\n",
    "\n",
    "    with open(\"library.txt\", \"r\") as file:\n",
    "        lines = file.readlines()\n",
    "\n",
    "        for line in lines:\n",
    "            name, quantity = line.strip().split(\",\")\n",
    "            print(f\"{name}: {quantity}\")\n",
    "            print(\"\")\n",
    "\n",
    "def main():\n",
    "    while True:\n",
    "        display_menu()\n",
    "        choice = input(\"Enter your choice (1-5): \")\n",
    "\n",
    "        if choice == \"1\":\n",
    "            add_book()\n",
    "        elif choice == \"2\":\n",
    "            modify_quantity()\n",
    "        elif choice == \"3\":\n",
    "            delete_book()\n",
    "        elif choice == \"4\":\n",
    "            show_status()\n",
    "        elif choice == \"5\":\n",
    "            print(\"...\")\n",
    "            print(\"Thank you.\")\n",
    "            break\n",
    "        else:\n",
    "            print(\"Invalid choice. Please try again.\")\n",
    "\n",
    "if __name__ == \"__main__\":\n",
    "    main()"
   ]
  },
  {
   "cell_type": "code",
   "execution_count": 30,
   "id": "79e8fea3-11aa-412d-a544-b698ce51f01b",
   "metadata": {},
   "outputs": [
    {
     "name": "stdout",
     "output_type": "stream",
     "text": [
      "-_- -_- -_- -_- -_- -_- -_- -_- -_- -_- \n"
     ]
    }
   ],
   "source": [
    "print(\"-_- \"*10)"
   ]
  },
  {
   "cell_type": "code",
   "execution_count": null,
   "id": "2172e8b9-3eb9-480d-9a2d-97fb3a80b35c",
   "metadata": {},
   "outputs": [],
   "source": []
  }
 ],
 "metadata": {
  "kernelspec": {
   "display_name": "Python 3 (ipykernel)",
   "language": "python",
   "name": "python3"
  },
  "language_info": {
   "codemirror_mode": {
    "name": "ipython",
    "version": 3
   },
   "file_extension": ".py",
   "mimetype": "text/x-python",
   "name": "python",
   "nbconvert_exporter": "python",
   "pygments_lexer": "ipython3",
   "version": "3.11.6"
  }
 },
 "nbformat": 4,
 "nbformat_minor": 5
}
